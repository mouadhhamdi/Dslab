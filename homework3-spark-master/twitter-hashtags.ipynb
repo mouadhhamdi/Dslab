{
 "cells": [
  {
   "cell_type": "code",
   "execution_count": 1,
   "metadata": {
    "collapsed": true
   },
   "outputs": [],
   "source": [
    "%matplotlib inline\n",
    "import matplotlib.pylab as plt\n",
    "plt.rcParams['figure.figsize'] = (10,6)\n",
    "plt.rcParams['font.size'] = 18\n",
    "plt.style.use('fivethirtyeight')"
   ]
  },
  {
   "cell_type": "markdown",
   "metadata": {},
   "source": [
    "# Uncovering World Events using Twitter Hashtags\n",
    "\n",
    "## ... and learning about Spark `DataFrames` along the way\n",
    "\n",
    "In this notebook, we will use temporal information about Twitter hashtags to discover trending topics and potentially uncover world events as they occurred. You've already used this dataset in a previous homework, but here we will be working with it in Apache Spark.\n",
    "\n",
    "### Hashtags\n",
    "\n",
    "The idea here is that when an event is happening and people are having a conversation about it on Twitter, a set of uniform hashtags that represent the event spontaneously evolves. Twitter users then use those hashtags to communicate with one another. Some hashtags, like `#RT` for \"retweet\" or just `#retweet` are used frequently and don't tell us much about what is going on. But a sudden appearance of a hashtag like `#oscars` probably indicates that the oscars are underway. For a particularly cool example of this type of analysis, check out [this blog post about earthquake detection using Twitter data](https://blog.twitter.com/official/en_us/a/2015/usgs-twitter-data-earthquake-detection.html) (although they search the text and not necessarily hashtags)."
   ]
  },
  {
   "cell_type": "markdown",
   "metadata": {},
   "source": [
    "## Initialize the `SparkSession`"
   ]
  },
  {
   "cell_type": "code",
   "execution_count": 2,
   "metadata": {},
   "outputs": [
    {
     "data": {
      "text/html": [
       "\n",
       "        <div>\n",
       "            <p><b>SparkContext</b></p>\n",
       "\n",
       "            <p><a href=\"http://10.90.38.21:4062\">Spark UI</a></p>\n",
       "\n",
       "            <dl>\n",
       "              <dt>Version</dt>\n",
       "                <dd><code>v2.2.0.2.6.4.0-91</code></dd>\n",
       "              <dt>Master</dt>\n",
       "                <dd><code>yarn</code></dd>\n",
       "              <dt>AppName</dt>\n",
       "                <dd><code>twitter-abouzaid</code></dd>\n",
       "            </dl>\n",
       "        </div>\n",
       "        "
      ],
      "text/plain": [
       "<SparkContext master=yarn appName=twitter-abouzaid>"
      ]
     },
     "execution_count": 2,
     "metadata": {},
     "output_type": "execute_result"
    }
   ],
   "source": [
    "import getpass\n",
    "import pyspark\n",
    "from pyspark.sql import SparkSession\n",
    "\n",
    "conf = pyspark.conf.SparkConf()\n",
    "conf.setMaster('yarn')\n",
    "conf.setAppName('twitter-{0}'.format(getpass.getuser()))\n",
    "conf.set('spark.executor.memory', '4g')\n",
    "conf.set('spark.executor.instances', '6')\n",
    "conf.set('spark.port.maxRetries', '100')\n",
    "sc = pyspark.SparkContext.getOrCreate(conf)\n",
    "conf = sc.getConf()\n",
    "sc"
   ]
  },
  {
   "cell_type": "code",
   "execution_count": 3,
   "metadata": {
    "collapsed": true
   },
   "outputs": [],
   "source": [
    "spark = SparkSession(sc)"
   ]
  },
  {
   "cell_type": "markdown",
   "metadata": {},
   "source": [
    "## Set up the hashtag `DataFrame` (10 points / 60)\n",
    "\n",
    "We have prepared the hashtag data spanning the time from April-July 2016. This is a significant time in modern European history, e.g. see [Brexit](https://en.wikipedia.org/wiki/Brexit). Lets see if we can see any interesting trends about these events in the Twitter data. "
   ]
  },
  {
   "cell_type": "code",
   "execution_count": 4,
   "metadata": {
    "collapsed": true
   },
   "outputs": [],
   "source": [
    "from datetime import datetime\n",
    "\n",
    "import pyspark.sql.functions as functions"
   ]
  },
  {
   "cell_type": "markdown",
   "metadata": {},
   "source": [
    "### TODO (1 point/10)\n",
    "\n",
    "Load the **parquet** data from `/datasets/twitter_hashtags` into a Spark dataframe using the appropriate `SparkSession` method. \n",
    "\n",
    "Look at the first few rows of the dataset - note the timestamp and its units!"
   ]
  },
  {
   "cell_type": "code",
   "execution_count": 5,
   "metadata": {
    "collapsed": true
   },
   "outputs": [],
   "source": [
    "df = spark.read.load('/datasets/twitter_hashtags')"
   ]
  },
  {
   "cell_type": "code",
   "execution_count": 6,
   "metadata": {},
   "outputs": [
    {
     "name": "stdout",
     "output_type": "stream",
     "text": [
      "+-------------+----+-------------+\n",
      "| timestamp_ms|lang|      hashtag|\n",
      "+-------------+----+-------------+\n",
      "|1459492860657| und|   2896Nation|\n",
      "|1459492860657| und|     Republik|\n",
      "|1459492860658|  en|          win|\n",
      "|1459492860658|  en|  competition|\n",
      "|1459492860658|  en|     giveaway|\n",
      "|1459492860664|  tl| ALDUBYayaWho|\n",
      "|1459492860663|  th|        ไคตัล|\n",
      "|1459492860660|  es|      muybien|\n",
      "|1459492860660|  th|    FLY2NDWIN|\n",
      "|1459492860665|  en|      5SOSFam|\n",
      "|1459492860665|  en|  BestFanArmy|\n",
      "|1459492860665|  en| iHeartAwards|\n",
      "|1459492861661|  ja|      hempire|\n",
      "|1459492861657|  th|        ไคตัล|\n",
      "|1459492861657|  es|    Venezuela|\n",
      "|1459492861657|  es|   cristianos|\n",
      "|1459492861660| und|         RUSH|\n",
      "|1459492861660| und|        TFBJP|\n",
      "|1459492861660| und|       TFBANG|\n",
      "|1459492861661|  en|BirdieSanders|\n",
      "+-------------+----+-------------+\n",
      "only showing top 20 rows\n",
      "\n"
     ]
    }
   ],
   "source": [
    "df.show()"
   ]
  },
  {
   "cell_type": "markdown",
   "metadata": {},
   "source": [
    "### User-defined functions\n",
    "\n",
    "A neat trick of spark dataframes is that you can essentially use something very much like an RDD `map` method but without switching to the RDD. If you are familiar with database languages, this works very much like e.g. a user-defined function in SQL. \n",
    "\n",
    "So, for example, if we wanted to make a user-defined python function that returns the hashtags in lowercase, we could do something like this:"
   ]
  },
  {
   "cell_type": "code",
   "execution_count": 7,
   "metadata": {
    "collapsed": true
   },
   "outputs": [],
   "source": [
    "@functions.udf\n",
    "def lowercase(text):\n",
    "    \"\"\"Convert text to lowercase\"\"\"\n",
    "    return text.lower()"
   ]
  },
  {
   "cell_type": "markdown",
   "metadata": {},
   "source": [
    "The @functions.udf is a \"decorator\" -- this is really handy python syntactic sugar and in this case is equivalent to:\n",
    "\n",
    "```\n",
    "def lowercase(text):\n",
    "    return text.lower()\n",
    "    \n",
    "lowercase = functions.udf(lowercase)\n",
    "```\n",
    "\n",
    "It basically takes our function and adds to its functionality. In this case, it registers our function as a pyspark dataframe user-defined function (UDF).\n",
    "\n",
    "Using these UDFs is very straightforward and analogous to other Spark dataframe operations. For example:"
   ]
  },
  {
   "cell_type": "code",
   "execution_count": 8,
   "metadata": {},
   "outputs": [
    {
     "name": "stdout",
     "output_type": "stream",
     "text": [
      "+------------------+\n",
      "|lowercase(hashtag)|\n",
      "+------------------+\n",
      "|        2896nation|\n",
      "|          republik|\n",
      "|               win|\n",
      "|       competition|\n",
      "|          giveaway|\n",
      "|      aldubyayawho|\n",
      "|             ไคตัล|\n",
      "|           muybien|\n",
      "|         fly2ndwin|\n",
      "|           5sosfam|\n",
      "|       bestfanarmy|\n",
      "|      iheartawards|\n",
      "|           hempire|\n",
      "|             ไคตัล|\n",
      "|         venezuela|\n",
      "|        cristianos|\n",
      "|              rush|\n",
      "|             tfbjp|\n",
      "|            tfbang|\n",
      "|     birdiesanders|\n",
      "+------------------+\n",
      "only showing top 20 rows\n",
      "\n"
     ]
    }
   ],
   "source": [
    "df.select(lowercase(df.hashtag)).show()"
   ]
  },
  {
   "cell_type": "markdown",
   "metadata": {},
   "source": [
    "Using a framework like Spark is all about understanding the ins and outs of how it functions and knowing what it offers. One of the cool things about the dataframe API is that many functions are already defined for you (turning strings into lowercase being one of them). \n",
    "\n",
    "### TODO (2 points / 10)\n",
    "\n",
    "Find the Spark python API documentation. Look for the `sql` section and find the listing of `sql.functions`. Repeat the above (turning hashtags into lowercase) but use the built-in function."
   ]
  },
  {
   "cell_type": "code",
   "execution_count": 9,
   "metadata": {},
   "outputs": [
    {
     "name": "stdout",
     "output_type": "stream",
     "text": [
      "+--------------+\n",
      "|lower(hashtag)|\n",
      "+--------------+\n",
      "|    2896nation|\n",
      "|      republik|\n",
      "|           win|\n",
      "|   competition|\n",
      "|      giveaway|\n",
      "|  aldubyayawho|\n",
      "|         ไคตัล|\n",
      "|       muybien|\n",
      "|     fly2ndwin|\n",
      "|       5sosfam|\n",
      "|   bestfanarmy|\n",
      "|  iheartawards|\n",
      "|       hempire|\n",
      "|         ไคตัล|\n",
      "|     venezuela|\n",
      "|    cristianos|\n",
      "|          rush|\n",
      "|         tfbjp|\n",
      "|        tfbang|\n",
      "| birdiesanders|\n",
      "+--------------+\n",
      "only showing top 20 rows\n",
      "\n"
     ]
    }
   ],
   "source": [
    "lower = df.select(functions.lower(df.hashtag))\n",
    "lower.show()"
   ]
  },
  {
   "cell_type": "markdown",
   "metadata": {},
   "source": [
    "We'll work with a combination of these built-in functions and user-defined functions for the remainder of this homework. \n",
    "\n",
    "### TODO (7 points/10)\n",
    "\n",
    "Create `english_df` consisting of **lowercase** hashtags from only english-language tweets. In addition, convert the timestamp to a more readable format like this and name the column `date`:\n",
    "\n",
    "```\n",
    "2016-04-01 08:41:00\n",
    "```"
   ]
  },
  {
   "cell_type": "markdown",
   "metadata": {},
   "source": [
    "Your `english_df` should look something like this:\n",
    "\n",
    "```\n",
    "+-------------+----+-----------+-------------------+\n",
    "| timestamp_ms|lang|    hashtag|               date|\n",
    "+-------------+----+-----------+-------------------+\n",
    "|1459492860658|  en|        win|2016-04-01 08:41:00|\n",
    "|1459492860658|  en|competition|2016-04-01 08:41:00|\n",
    "|1459492860658|  en|   giveaway|2016-04-01 08:41:00|\n",
    "|1459492860665|  en|    5sosfam|2016-04-01 08:41:00|\n",
    "|1459492860665|  en|bestfanarmy|2016-04-01 08:41:00|\n",
    "+-------------+----+-----------+-------------------+\n",
    "```"
   ]
  },
  {
   "cell_type": "code",
   "execution_count": 10,
   "metadata": {
    "collapsed": true
   },
   "outputs": [],
   "source": [
    "english_df = df.where(df.lang == 'en')\\\n",
    ".withColumn('date', functions.from_unixtime(df.timestamp_ms/1000))\\\n",
    ".withColumn('hashtag', lowercase(df.hashtag))"
   ]
  },
  {
   "cell_type": "code",
   "execution_count": 11,
   "metadata": {},
   "outputs": [
    {
     "name": "stdout",
     "output_type": "stream",
     "text": [
      "+-------------+----+-----------+-------------------+\n",
      "| timestamp_ms|lang|    hashtag|               date|\n",
      "+-------------+----+-----------+-------------------+\n",
      "|1459492860658|  en|        win|2016-04-01 08:41:00|\n",
      "|1459492860658|  en|competition|2016-04-01 08:41:00|\n",
      "|1459492860658|  en|   giveaway|2016-04-01 08:41:00|\n",
      "|1459492860665|  en|    5sosfam|2016-04-01 08:41:00|\n",
      "|1459492860665|  en|bestfanarmy|2016-04-01 08:41:00|\n",
      "+-------------+----+-----------+-------------------+\n",
      "only showing top 5 rows\n",
      "\n"
     ]
    }
   ],
   "source": [
    "english_df.show(5)"
   ]
  },
  {
   "cell_type": "markdown",
   "metadata": {},
   "source": [
    "## Twitter hashtag trends (50 points / 60)\n",
    "\n",
    "In this section we will try to do a slightly more complicated analysis of the tweets. Our goal is to get an idea of tweet frequency as a function of time for certain hashtags. \n",
    "\n",
    "Lets build this up in steps. First, lets see how we can start to organize the tweets by their timestamps. \n",
    "\n",
    "As a first easy example, lets say we just want to count the number of tweets per minute over the entire span of our data. For this, we first need a \"global\" minute value, e.g. \"minute of the year\" or something similar. \n",
    "\n",
    "Spark provides us with some handy built-in dataframe functions that are made for transforming date and time fields. \n",
    "\n",
    "Have a look [here](http://spark.apache.org/docs/latest/api/python/pyspark.sql.html#module-pyspark.sql.functions) to see the whole list of custom dataframe functions - you will need to use them to complete the next set of TODO items."
   ]
  },
  {
   "cell_type": "markdown",
   "metadata": {},
   "source": [
    "Note that the functions can be combined. Consider the following dataframe and its transformation:"
   ]
  },
  {
   "cell_type": "code",
   "execution_count": 12,
   "metadata": {
    "collapsed": true
   },
   "outputs": [],
   "source": [
    "l = sc.range(180)"
   ]
  },
  {
   "cell_type": "code",
   "execution_count": 13,
   "metadata": {},
   "outputs": [
    {
     "name": "stdout",
     "output_type": "stream",
     "text": [
      "+---------------------+\n",
      "|SIN(RADIANS(degrees))|\n",
      "+---------------------+\n",
      "|                  0.0|\n",
      "|  0.01745240643728351|\n",
      "|  0.03489949670250097|\n",
      "|  0.05233595624294383|\n",
      "|   0.0697564737441253|\n",
      "|  0.08715574274765817|\n",
      "|  0.10452846326765346|\n",
      "|  0.12186934340514748|\n",
      "|  0.13917310096006544|\n",
      "|  0.15643446504023087|\n",
      "|  0.17364817766693033|\n",
      "|   0.1908089953765448|\n",
      "|  0.20791169081775931|\n",
      "|  0.22495105434386498|\n",
      "|  0.24192189559966773|\n",
      "|  0.25881904510252074|\n",
      "|  0.27563735581699916|\n",
      "|   0.2923717047227367|\n",
      "|   0.3090169943749474|\n",
      "|   0.3255681544571567|\n",
      "+---------------------+\n",
      "only showing top 20 rows\n",
      "\n"
     ]
    }
   ],
   "source": [
    "from pyspark.sql import Row\n",
    "\n",
    "# create a sample dataframe with one column \"degrees\" going from 0 to 180\n",
    "test_df = spark.createDataFrame(sc.range(180).map(lambda x: Row(degrees=x)), ['degrees'])\n",
    "\n",
    "# define a function \"sin_rad\" that first converts degrees to radians and then takes the sine using built-in functions\n",
    "sin_rad = functions.sin(functions.radians(test_df.degrees))\n",
    "\n",
    "# show the result\n",
    "test_df.select(sin_rad).show()"
   ]
  },
  {
   "cell_type": "markdown",
   "metadata": {},
   "source": [
    "### DataFrames `groupBy`\n",
    "\n",
    "We used `groupBy` already in the previous notebook, but here we will take more advantage of its features. \n",
    "\n",
    "One important thing to note is that unlike other RDD or DataFrame transformations, the `groupBy` does not return another DataFrame, but a `GroupedData` object instead, with its own methods. These methods allow you to do various transformations and aggregations on the data of the grouped rows. \n",
    "\n",
    "Conceptually the procedure is a lot like this:\n",
    "\n",
    "![groupby](https://i.stack.imgur.com/sgCn1.jpg)\n",
    "\n",
    "The column that is used for the `groupBy` is the `key` - once we have the values of a particular key all together, we can use various aggregation functions on them to generate a transformed dataset. In this example, the aggregation function is a simple `sum`. In the simple procedure below, the `key` will be the hashtag."
   ]
  },
  {
   "cell_type": "markdown",
   "metadata": {},
   "source": [
    "### TODO (1 point / 50)\n",
    "\n",
    "Calculate the top five most common hashtags in the whole english-language dataset.\n",
    "\n",
    "This should be your result:\n",
    "\n",
    "```\n",
    "+-------------+------+\n",
    "|      hashtag| count|\n",
    "+-------------+------+\n",
    "|   mtvhottest|800829|\n",
    "|veranomtv2016|539028|\n",
    "| iheartawards|447651|\n",
    "|  bestfanarmy|429739|\n",
    "|   teenchoice|345250|\n",
    "+-------------+------+\n",
    "```"
   ]
  },
  {
   "cell_type": "code",
   "execution_count": 14,
   "metadata": {},
   "outputs": [
    {
     "name": "stdout",
     "output_type": "stream",
     "text": [
      "+-------------+------+\n",
      "|      hashtag| count|\n",
      "+-------------+------+\n",
      "|   mtvhottest|800829|\n",
      "|veranomtv2016|539028|\n",
      "| iheartawards|447651|\n",
      "|  bestfanarmy|429739|\n",
      "|   teenchoice|345250|\n",
      "+-------------+------+\n",
      "only showing top 5 rows\n",
      "\n"
     ]
    }
   ],
   "source": [
    "english_df.groupby('hashtag').count().sort('count', ascending=False).show(5)"
   ]
  },
  {
   "cell_type": "markdown",
   "metadata": {},
   "source": [
    "## Daily hashtag trends\n",
    "\n",
    "Now we will start to complicate the analysis a bit. Remember, our goal is to uncover trending topics on a timescale of a few days. A much needed column then is simply `day`. To convert the date string into day-of-year, you can use the built-in [dayofyear](http://spark.apache.org/docs/latest/api/python/pyspark.sql.html#pyspark.sql.functions.dayofyear) function. \n",
    "\n",
    "In the subsequent sections we will then not only see which hashtags are globally most popular, but which ones experience the biggest changes in popularity - those are the \"trending\" topics. If there is suddenly a substantial increase of a hashtag over a matter of a day or two, it may signify an event taking place. "
   ]
  },
  {
   "cell_type": "markdown",
   "metadata": {},
   "source": [
    "### TODO (2 points / 50)\n",
    "\n",
    "Create a dataframe called `daily_hashtag` that includes the columns `month`, `week`, `day` and `hashtag`. Use the `english_df` you made above to start, and make sure you find the appropriate spark dataframe functions to make your life easier. Show the result.\n",
    "\n",
    "Try to match this view:\n",
    "\n",
    "```\n",
    "+-----+----+---+-----------+\n",
    "|month|week|day|    hashtag|\n",
    "+-----+----+---+-----------+\n",
    "|    4|  13| 92|        win|\n",
    "|    4|  13| 92|competition|\n",
    "|    4|  13| 92|   giveaway|\n",
    "|    4|  13| 92|    5sosfam|\n",
    "|    4|  13| 92|bestfanarmy|\n",
    "+-----+----+---+-----------+\n",
    "```"
   ]
  },
  {
   "cell_type": "code",
   "execution_count": 15,
   "metadata": {
    "collapsed": true
   },
   "outputs": [],
   "source": [
    "daily_hashtag = english_df.withColumn('month', functions.month('date'))\\\n",
    ".withColumn('week', functions.weekofyear('date'))\\\n",
    ".withColumn('day', functions.dayofyear('date'))\\\n",
    ".withColumn('hashtag', english_df.hashtag).\\\n",
    "drop('timestamp_ms','lang', 'date').select('month', 'week', 'day', 'hashtag')"
   ]
  },
  {
   "cell_type": "code",
   "execution_count": 16,
   "metadata": {},
   "outputs": [
    {
     "name": "stdout",
     "output_type": "stream",
     "text": [
      "+-----+----+---+-----------+\n",
      "|month|week|day|    hashtag|\n",
      "+-----+----+---+-----------+\n",
      "|    4|  13| 92|        win|\n",
      "|    4|  13| 92|competition|\n",
      "|    4|  13| 92|   giveaway|\n",
      "|    4|  13| 92|    5sosfam|\n",
      "|    4|  13| 92|bestfanarmy|\n",
      "+-----+----+---+-----------+\n",
      "only showing top 5 rows\n",
      "\n"
     ]
    }
   ],
   "source": [
    "daily_hashtag.show(5)"
   ]
  },
  {
   "cell_type": "markdown",
   "metadata": {},
   "source": [
    "### TODO (2 points / 50)\n",
    "\n",
    "Now we want to calculate the number of times a hashtag is used per day. Sort in descending order of daily counts and show the result. Call the resulting dataframe `day_counts`.\n",
    "\n",
    "Your output should look like this:\n",
    "\n",
    "```\n",
    "+---+------------+----+------+\n",
    "|day|     hashtag|week| count|\n",
    "+---+------------+----+------+\n",
    "| 94|iheartawards|  13|190884|\n",
    "| 94| bestfanarmy|  13|185789|\n",
    "| 93|iheartawards|  13|124645|\n",
    "| 93| bestfanarmy|  13|122741|\n",
    "| 95|iheartawards|  14| 91921|\n",
    "+---+------------+----+------+\n",
    "```\n",
    "\n",
    "<div class=\"alert alert-info\">\n",
    "<p>Make sure you use `cache()` when you create `day_counts` because we will need it in the steps that follow!</p>\n",
    "</div>"
   ]
  },
  {
   "cell_type": "code",
   "execution_count": 17,
   "metadata": {},
   "outputs": [
    {
     "data": {
      "text/plain": [
       "DataFrame[day: int, hashtag: string, week: int, count: bigint]"
      ]
     },
     "execution_count": 17,
     "metadata": {},
     "output_type": "execute_result"
    }
   ],
   "source": [
    "day_counts = daily_hashtag.\\\n",
    "groupby('day', 'hashtag', 'week').count().sort('count', ascending=False)\n",
    "day_counts.cache()"
   ]
  },
  {
   "cell_type": "code",
   "execution_count": 18,
   "metadata": {},
   "outputs": [
    {
     "name": "stdout",
     "output_type": "stream",
     "text": [
      "+---+------------+----+------+\n",
      "|day|     hashtag|week| count|\n",
      "+---+------------+----+------+\n",
      "| 94|iheartawards|  13|190884|\n",
      "| 94| bestfanarmy|  13|185789|\n",
      "| 93|iheartawards|  13|124645|\n",
      "| 93| bestfanarmy|  13|122741|\n",
      "| 95|iheartawards|  14| 91921|\n",
      "+---+------------+----+------+\n",
      "only showing top 5 rows\n",
      "\n"
     ]
    }
   ],
   "source": [
    "day_counts.show(5)"
   ]
  },
  {
   "cell_type": "markdown",
   "metadata": {},
   "source": [
    "### TODO (5 points / 50)\n",
    "\n",
    "To get an idea of the most popular persistent hashtags, use the `week` column that we kept around to calculate the average number of times per day that a hashtag occurs in a week. Sort in descending order and show the top 20."
   ]
  },
  {
   "cell_type": "code",
   "execution_count": 19,
   "metadata": {
    "collapsed": true
   },
   "outputs": [],
   "source": [
    "weekly_avg = day_counts.groupby('hashtag', 'week').avg('count').sort('avg(count)', ascending=False)"
   ]
  },
  {
   "cell_type": "code",
   "execution_count": 20,
   "metadata": {},
   "outputs": [
    {
     "name": "stdout",
     "output_type": "stream",
     "text": [
      "+-----------------+----+------------------+\n",
      "|          hashtag|week|        avg(count)|\n",
      "+-----------------+----+------------------+\n",
      "|     iheartawards|  13|117272.33333333333|\n",
      "|      bestfanarmy|  13|114718.66666666667|\n",
      "|       mtvhottest|  29| 52061.42857142857|\n",
      "|       mtvhottest|  30|           47927.0|\n",
      "|          5sosfam|  13|41642.333333333336|\n",
      "|      harmonizers|  13|           40434.0|\n",
      "|     directioners|  13|30483.666666666668|\n",
      "|       teenchoice|  19|20068.571428571428|\n",
      "|    veranomtv2016|  25| 17867.85714285714|\n",
      "|    veranomtv2016|  26| 17116.14285714286|\n",
      "|aldub9thmonthsary|  15|16189.666666666666|\n",
      "|    veranomtv2016|  27| 14476.57142857143|\n",
      "|       mtvhottest|  31|           14062.0|\n",
      "|     iheartawards|  14|13457.142857142857|\n",
      "|    veranomtv2016|  30|12510.285714285714|\n",
      "|       mtvhottest|  28|12287.714285714286|\n",
      "|    mtvawardsstar|  23|12191.833333333334|\n",
      "|      bestfanarmy|  14| 12039.42857142857|\n",
      "|     ripchristina|  23|           11963.5|\n",
      "|    altonsterling|  27|           10266.2|\n",
      "+-----------------+----+------------------+\n",
      "only showing top 20 rows\n",
      "\n"
     ]
    }
   ],
   "source": [
    "weekly_avg.show()"
   ]
  },
  {
   "cell_type": "markdown",
   "metadata": {},
   "source": [
    "### Using `Window` functions \n",
    "\n",
    "Window functions are another awesome feature of dataframes. They allow users to accomplish complex tasks using very concise and simple code. \n",
    "\n",
    "Above we computed just the hashtag that had the most occurrences on *any* day. Now lets say we want to know the top tweets for *each* day.  \n",
    "\n",
    "This is a non-trivial thing to compute and requires \"windowing\" our data. I recommend reading this [window functions article](https://databricks.com/blog/2015/07/15/introducing-window-functions-in-spark-sql.html) to get acquainted with the idea. You can think of a window function as a fine-grained and more flexible `groupBy`. \n",
    "\n",
    "There are two things we need to define to use window functions:\n",
    "\n",
    "1. the \"window\" to use, based on which columns (partitioning) and how the rows should be ordered \n",
    "2. the computation to carry out for each windowed group, e.g. a max, an average etc.\n",
    "\n",
    "Lets see how this works by example. We will define a window function, `daily_window` that will partition data based on the `day` column. Within each window, the rows will be ordered by the daily hashtag count that we computed above. Finally, we will use the rank function **over** this window to give us the ranking of top tweets. \n",
    "\n",
    "In the end, this is a fairly complicated operation achieved in just a few lines of code! (can you think of how to do this with an RDD??)"
   ]
  },
  {
   "cell_type": "code",
   "execution_count": 21,
   "metadata": {
    "collapsed": true
   },
   "outputs": [],
   "source": [
    "from pyspark.sql import Window"
   ]
  },
  {
   "cell_type": "markdown",
   "metadata": {},
   "source": [
    "First, we specify the window function and the ordering:"
   ]
  },
  {
   "cell_type": "code",
   "execution_count": 22,
   "metadata": {
    "collapsed": true
   },
   "outputs": [],
   "source": [
    "daily_window = Window.partitionBy('day').orderBy(functions.desc('count'))"
   ]
  },
  {
   "cell_type": "markdown",
   "metadata": {},
   "source": [
    "The above window function says that we should window the data on the `day` column and order it by count. \n",
    "\n",
    "Now we need to define what we want to compute on the windowed data. We will start by just calculating the daily ranking of hashtags, so we can use the helpful built-in `functions.rank()` and sort:"
   ]
  },
  {
   "cell_type": "code",
   "execution_count": 23,
   "metadata": {
    "collapsed": true
   },
   "outputs": [],
   "source": [
    "daily_rank = functions.rank() \\\n",
    "                      .over(daily_window) \\\n",
    "                      .alias('rank')"
   ]
  },
  {
   "cell_type": "markdown",
   "metadata": {},
   "source": [
    "Now we have the pieces we need to compute the top five hashtags for each day in our data:"
   ]
  },
  {
   "cell_type": "code",
   "execution_count": 24,
   "metadata": {},
   "outputs": [
    {
     "name": "stdout",
     "output_type": "stream",
     "text": [
      "+---+------+------------+----+\n",
      "|day| count|     hashtag|rank|\n",
      "+---+------+------------+----+\n",
      "| 92| 36288|iheartawards|   1|\n",
      "| 92| 35626| bestfanarmy|   2|\n",
      "| 92| 15678| harmonizers|   3|\n",
      "| 92| 13962|     5sosfam|   4|\n",
      "| 92|  5528|directioners|   5|\n",
      "| 93|124645|iheartawards|   1|\n",
      "| 93|122741| bestfanarmy|   2|\n",
      "| 93| 50782| harmonizers|   3|\n",
      "| 93| 42458|     5sosfam|   4|\n",
      "| 93| 28171|directioners|   5|\n",
      "| 94|190884|iheartawards|   1|\n",
      "| 94|185789| bestfanarmy|   2|\n",
      "| 94| 68507|     5sosfam|   3|\n",
      "| 94| 57752|directioners|   4|\n",
      "| 94| 54842| harmonizers|   5|\n",
      "| 95| 91921|iheartawards|   1|\n",
      "| 95| 83197| bestfanarmy|   2|\n",
      "| 95| 41305|     5sosfam|   3|\n",
      "| 95| 20245| harmonizers|   4|\n",
      "| 95| 18909|wrestlemania|   5|\n",
      "+---+------+------------+----+\n",
      "only showing top 20 rows\n",
      "\n"
     ]
    }
   ],
   "source": [
    "(day_counts.select('day', 'count', 'hashtag', daily_rank)\n",
    "           .filter('rank <= 5')\n",
    "           .sort('day', 'rank')\n",
    "           .show(20))"
   ]
  },
  {
   "cell_type": "markdown",
   "metadata": {},
   "source": [
    "### A more complicated `Window` example: calculating the daily standard deviation based on a weekly window\n",
    "\n",
    "The above list of top daily hashtags is interesting, but it really only uncovers very frequent hashtags. We want to try and identify \"world events\" and for that we need to detect trending hashtags by spotting a rapid *change* in the tweeting pattern. \n",
    "\n",
    "One very simple model to do this is to just look at the whether the hashtags mentions on a given day are much higher than on average. For this, we can calculate the daily standard deviation using a baseline mean, such as a week.\n",
    "\n",
    "Remember, variance is just:\n",
    "\n",
    "$$\\sigma^2 = \\sum_i{(x_i-\\mu)^2},$$\n",
    "\n",
    "where $x_i$ is the daily count of a hashtag and $\\mu$ is the weekly average. \n",
    "\n",
    "So the procedure is something like this: \n",
    "\n",
    "1. calculate $\\mu$ for each hastag and each week\n",
    "2. compute the sum of the differences squared \n",
    "3. order tweets for each week in order of decreasing $\\sigma$\n"
   ]
  },
  {
   "cell_type": "markdown",
   "metadata": {},
   "source": [
    "## TODO - Compute the top five trending tweets per week (25 points / 50)\n",
    "\n",
    "Use window functions to calculate the variance for each hashtag and each week. Produce a weekly ranking of tweets based on their variance and print the top five tweets for each week. The output should look like this:\n",
    "\n",
    "```\n",
    "Top ten hashtags with highest variation each week\n",
    "+----+--------------------+--------------------+----+\n",
    "|week|             hashtag|            variance|rank|\n",
    "+----+--------------------+--------------------+----+\n",
    "|  13|        iheartawards|1.203149592866666...|   1|\n",
    "|  13|         bestfanarmy|1.137100003266666...|   2|\n",
    "|  13|             5sosfam|1.4885764806666665E9|   3|\n",
    "|  13|        directioners|1.3716957286666665E9|   4|\n",
    "|  13|         harmonizers|        9.27531104E8|   5|\n",
    "|  13|    aldub3rdebawards|         1.8595976E7|   6|\n",
    "|  13|      memeablemoment|1.2742160666666668E7|   7|\n",
    "|  13|          aprilfools|1.0030552666666668E7|   8|\n",
    "|  13|      jfcshawnmendes|   9252520.666666666|   9|\n",
    "|  14|        iheartawards| 7.183277916857142E9|   1|\n",
    "|  14|         bestfanarmy| 5.907355471714287E9|   2|\n",
    "|  14|             5sosfam|1.4584854168571427E9|   3|\n",
    "|  14|        wrestlemania|2.9820363142857146E8|   4|\n",
    "|  14|         harmonizers|2.9375777371428573E8|   5|\n",
    "|  14|        directioners|1.9487411342857143E8|   6|\n",
    "|  14|         sofantastic| 3.819015571428572E7|   7|\n",
    "|  14|nationalchampionship|3.7476486857142866E7|   8|\n",
    "|  14|     dolceamoresayit|         3.0816227E7|   9|\n",
    "|  15|   aldub9thmonthsary| 8.463613606666669E8|   1|\n",
    "|  15|            mambaday|1.2468111571428573E8|   2|\n",
    "|  15|  dolceamoreiloveyou|1.0015080520000002E8|   3|\n",
    "|  15|           demdebate| 6.480662342857144E7|   4|\n",
    "|  15|         sofantastic| 6.194139885714285E7|   5|\n",
    "|  15|        thankyoukobe|3.3031526857142862E7|   6|\n",
    "|  15|         harmonizers|2.2504020857142862E7|   7|\n",
    "|  15|   aldub39thweeksary|        2.07642592E7|   8|\n",
    "|  15|     aldubsummerlove|        2.05949015E7|   9|\n",
    "|  16|  letsplay1dreamboy2| 4.318556866666666E7|   1|\n",
    "|  16|            lemonade| 4.086382571428571E7|   2|\n",
    "|  16|            earthday|3.8029611428571425E7|   3|\n",
    "|  16|   aldub40thweeksary|        3.45427468E7|   4|\n",
    "|  16|              prince|         3.4445144E7|   5|\n",
    "|  16|pilipinasdebates2016|3.3852825428571425E7|   6|\n",
    "|  16|      aldubgiftofjoy|3.1067077333333325E7|   7|\n",
    "|  16|dolceamorethebigm...|       2.880975475E7|   8|\n",
    "|  16|      aldubacting101|        2.50469215E7|   9|\n",
    "|  17|   dolceamorevenezia|         7.9941618E7|   1|\n",
    "|  17|               views| 6.452821571428571E7|   2|\n",
    "|  17|   aldub41stweeksary| 2.975588719999999E7|   3|\n",
    "|  17|                whcd|         2.5021998E7|   4|\n",
    "|  17|       gameofthrones|         2.0947352E7|   5|\n",
    "|  17|      aldubactoflove|1.9896217333333332E7|   6|\n",
    "|  17|   aldubgettingready|1.7553324833333332E7|   7|\n",
    "|  17|  aldubangpagtatapat|        1.63448912E7|   8|\n",
    "|  17|     aldubhbdbossing|         1.4679638E7|   9|\n",
    "|  18|             metgala| 3.608393877142856E8|   1|\n",
    "|  18|   dolceamorethesong|         6.2369341E7|   2|\n",
    "|  18| 화양연화onstageepilogue| 4.833936333333333E7|   3|\n",
    "|  18|  maythe4thbewithyou|2.5003587714285716E7|   4|\n",
    "|  18|          mothersday|2.4432857428571425E7|   5|\n",
    "|  18|      aldubbonvoyage|2.2385640666666664E7|   6|\n",
    "|  18|   aldub42ndweeksary|         2.1608336E7|   7|\n",
    "|  18|    aldubfinalscript|2.0915212833333332E7|   8|\n",
    "|  18|  aldubtickettoitaly|1.9933257333333332E7|   9|\n",
    "|  19|          teenchoice|1.4985840377142856E9|   1|\n",
    "|  19|          eurovision|2.6509957742857146E8|   2|\n",
    "|  19|dolceamoreitsallc...|      1.0733945675E8|   3|\n",
    "|  19| dolceamoreforgotten|          6.781391E7|   4|\n",
    "|  19| dolceamoremeanttobe| 6.028717319999999E7|   5|\n",
    "|  19|               방탄소년단| 3.573195485714285E7|   6|\n",
    "|  19|                 bts| 3.478692685714286E7|   7|\n",
    "|  19|choicemusicgroupmale|2.6838739333333336E7|   8|\n",
    "|  19|   aldub43rdweeksary|        2.10542772E7|   9|\n",
    "|  20|     1dreamboy2today| 9.333881666666669E7|   1|\n",
    "|  20|  aldub10thmonthsary|4.0754155428571425E7|   2|\n",
    "|  20|   aldub44thweeksary|        2.28811148E7|   3|\n",
    "|  20|  aldubloversinitaly|2.1738495714285716E7|   4|\n",
    "|  20|   aldubhappyinitaly|1.9249258833333332E7|   5|\n",
    "|  20| dolceamorewhitelies|1.6688452833333336E7|   6|\n",
    "|  20|      aldubwemissyou|         1.4809568E7|   7|\n",
    "|  20|     aldubtiamoitaly|         1.4410507E7|   8|\n",
    "|  20|      voicesavelaith|1.1729224666666666E7|   9|\n",
    "|  21|               bbmas| 3.598061197142857E8|   1|\n",
    "|  21| dolceamorepanaginip|         4.4339942E7|   2|\n",
    "|  21|      dolceamoretuko|         3.0670345E7|   3|\n",
    "|  21|            uclfinal| 3.018978742857142E7|   4|\n",
    "|  21|       1dreamboy2now|2.6601552833333336E7|   5|\n",
    "|  21|    aldubtouchoflove| 2.164150685714286E7|   6|\n",
    "|  21|dolceamoresatotoo...|       2.051140475E7|   7|\n",
    "|  21|   aldub45thweeksary|          2.037315E7|   8|\n",
    "|  21|        aldubsoclose|2.0267521333333336E7|   9|\n",
    "|  22|   dolceamorebistado|         2.5340328E7|   1|\n",
    "|  22|    aldubmissinghalf|1.7461188666666668E7|   2|\n",
    "|  22|     aldubhomeatlast|         1.3510819E7|   3|\n",
    "|  22|      aldubbackatone|   9672338.666666668|   4|\n",
    "|  22|         memorialday|           9546990.0|   5|\n",
    "|  22|     memorialday2016|           4911206.0|   6|\n",
    "|  22|                 raw|          2747458.75|   7|\n",
    "|  22|          teenchoice|           2385046.0|   8|\n",
    "|  22|               5h727|          2123164.75|   9|\n",
    "|  23|       mtvawardsstar| 2.808470288333333E8|   1|\n",
    "|  23|        ripchristina|       1.260078125E8|   2|\n",
    "|  23|             orlando| 1.177854708333333E8|   3|\n",
    "|  23|            euro2016|         4.5896674E7|   4|\n",
    "|  23|dolceamoredreamin...|        3.41199572E7|   5|\n",
    "|  23|       dolceamoretlc|         3.3426619E7|   6|\n",
    "|  23|   aldub47thweeksary|        2.00338128E7|   7|\n",
    "|  23|dolceamoreclosetoyou|         1.8993046E7|   8|\n",
    "|  23|       aldubtrumpets|         1.7667704E7|   9|\n",
    "|  24|  aldub11thmonthsary|         1.0705437E8|   1|\n",
    "|  24|             orlando|          6.740826E7|   2|\n",
    "|  24|          loveislove| 4.129454283333334E7|   3|\n",
    "|  24|          tonyawards| 2.533964083333333E7|   4|\n",
    "|  24|          fathersday| 2.053040483333333E7|   5|\n",
    "|  24|              e32016|1.7640861333333332E7|   6|\n",
    "|  24|      aldubthesender|         1.6480344E7|   7|\n",
    "|  24|     aldubforthelove|          1.634729E7|   8|\n",
    "|  24|      alduballmylife|         1.5920202E7|   9|\n",
    "|  25|              brexit| 5.619198574285715E8|   1|\n",
    "|  25|           nbafinals| 2.034930414285714E8|   2|\n",
    "|  25|               euref|1.1304269685714287E8|   3|\n",
    "|  25|       veranomtv2016| 9.154586285714287E7|   4|\n",
    "|  25|       nobillnobreak| 9.102413085714284E7|   5|\n",
    "|  25|        eurefresults|       7.245406475E7|   6|\n",
    "|  25|          teenchoice| 4.428511942857142E7|   7|\n",
    "|  25|      dolceamorehhww|       4.015488875E7|   8|\n",
    "|  25| 1dreamboy2flashback|        3.13236125E7|   9|\n",
    "|  26|       veranomtv2016|3.4067891885714287E8|   1|\n",
    "|  26|           betawards|3.2421500685714275E8|   2|\n",
    "|  26|       gameofthrones| 5.786883971428572E7|   3|\n",
    "|  26|        growingupshy| 4.110965285714285E7|   4|\n",
    "|  26|            euro2016|3.0678978857142862E7|   5|\n",
    "|  26|                 eng| 2.311730685714286E7|   6|\n",
    "|  26|heterosexualprideday|2.2937988799999997E7|   7|\n",
    "|  26|   dolceamorewarning|         2.1789481E7|   8|\n",
    "|  26|   aldubiyamin14days|1.9558076833333332E7|   9|\n",
    "|  27|       veranomtv2016| 6.172811897142859E8|   1|\n",
    "|  27|       altonsterling|       4.353550708E8|   2|\n",
    "|  27|              dallas|3.0474667485714287E8|   3|\n",
    "|  27|          teenchoice|        1.44406374E8|   4|\n",
    "|  27| throwback1dreamboy2|1.0612579466666664E8|   5|\n",
    "|  27|    blacklivesmatter| 9.825445142857142E7|   6|\n",
    "|  27|     philandocastile|         8.6897369E7|   7|\n",
    "|  27|aldubmainecelebra...|4.7500080666666664E7|   8|\n",
    "|  27|            euro2016| 3.652664371428572E7|   9|\n",
    "|  28|          mtvhottest|3.0488708594285717E9|   1|\n",
    "|  28| aldub1stanniversary|      4.1578049275E8|   2|\n",
    "|  28|       veranomtv2016|1.2067342285714284E8|   3|\n",
    "|  28|         prayfornice|         9.3551121E7|   4|\n",
    "|  28|              turkey| 8.518514742857143E7|   5|\n",
    "|  28|aldubimagineyouandme| 5.561218883333333E7|   6|\n",
    "|  28|            euro2016|         2.9229292E7|   7|\n",
    "|  28|                nice|2.7864511428571437E7|   8|\n",
    "|  28|iyamthegrandpremiere|2.3359341333333332E7|   9|\n",
    "|  29|          mtvhottest| 5.754052757142857E8|   1|\n",
    "|  29|            rncincle|2.6088884942857146E8|   2|\n",
    "|  29|          6yearsof1d| 1.102624657142857E8|   3|\n",
    "|  29|       veranomtv2016| 9.774578085714285E7|   4|\n",
    "|  29|kimexposedtaylorp...| 9.451060371428569E7|   5|\n",
    "|  29|          teenchoice| 9.222880542857142E7|   6|\n",
    "|  29|6yearsofonedirection| 6.410710720000001E7|   7|\n",
    "|  29|dolceamorechangedman|         5.4128522E7|   8|\n",
    "|  29|dolceamorefightin...| 5.309390866666666E7|   9|\n",
    "|  30|          mtvhottest|         5.3450441E8|   1|\n",
    "|  30|        demsinphilly| 4.432001374285714E8|   2|\n",
    "|  30|     savemarinajoyce|        2.00240236E8|   3|\n",
    "|  30|       veranomtv2016| 7.138472542857143E7|   4|\n",
    "|  30|dolceamoreconnivance|5.7476010833333336E7|   5|\n",
    "|  30|dolceamorelostand...|       4.581946275E7|   6|\n",
    "|  30|  dolceamoresabotage|       4.321053875E7|   7|\n",
    "|  30| dolceamorepatigasan| 3.897952866666666E7|   8|\n",
    "|  30|    dolceamoreaminan|3.2220744799999993E7|   9|\n",
    "+----+--------------------+--------------------+----+\n",
    "```"
   ]
  },
  {
   "cell_type": "code",
   "execution_count": 25,
   "metadata": {
    "collapsed": true
   },
   "outputs": [],
   "source": [
    "from pyspark.sql.types import FloatType, IntegerType"
   ]
  },
  {
   "cell_type": "code",
   "execution_count": 26,
   "metadata": {
    "collapsed": true
   },
   "outputs": [],
   "source": [
    "weekly_window = Window.partitionBy('week', 'hashtag')#.orderBy(functions.desc('count')) \n",
    "weekly_avg = functions.avg(day_counts['count']).over(weekly_window).alias('mean')"
   ]
  },
  {
   "cell_type": "code",
   "execution_count": 27,
   "metadata": {
    "collapsed": true
   },
   "outputs": [],
   "source": [
    "top_avg = day_counts.select('week', 'day', 'count', 'hashtag', weekly_avg).sort('hashtag','week', 'day')\n",
    "top_variance = top_avg.withColumn('diff_squared', functions.pow(top_avg['count'] - top_avg.mean.cast('float'), 2))\\\n",
    ".groupby('week', 'hashtag').sum()\n",
    "top_variance = top_variance.withColumn('variance', top_variance['sum(diff_squared)']).drop('sum(diff_squared)')"
   ]
  },
  {
   "cell_type": "code",
   "execution_count": 29,
   "metadata": {
    "scrolled": false
   },
   "outputs": [
    {
     "name": "stdout",
     "output_type": "stream",
     "text": [
      "+----+--------------------+--------------------+----+\n",
      "|week|             hashtag|            variance|rank|\n",
      "+----+--------------------+--------------------+----+\n",
      "|  13|        iheartawards|1.203149592866668...|   1|\n",
      "|  13|         bestfanarmy|1.137100003266668...|   2|\n",
      "|  13|             5sosfam|1.4885764806666718E9|   3|\n",
      "|  13|        directioners| 1.371695728666668E9|   4|\n",
      "|  13|         harmonizers|        9.27531104E8|   5|\n",
      "|  14|        iheartawards|  7.18327822335659E9|   1|\n",
      "|  14|         bestfanarmy| 5.907355332734655E9|   2|\n",
      "|  14|             5sosfam|1.4584855204425254E9|   3|\n",
      "|  14|        wrestlemania| 2.982036470308318E8|   4|\n",
      "|  14|         harmonizers|2.9375777371428585E8|   5|\n",
      "|  15|   aldub9thmonthsary|   8.4636131526758E8|   1|\n",
      "|  15|            mambaday|1.2468112027211225E8|   2|\n",
      "|  15|  dolceamoreiloveyou|1.0015079685566425E8|   3|\n",
      "|  15|           demdebate| 6.480662524612865E7|   4|\n",
      "|  15|         sofantastic|   6.1941395299456E7|   5|\n",
      "|  16|  letsplay1dreamboy2| 4.318557128662121E7|   1|\n",
      "|  16|            lemonade| 4.086382427054271E7|   2|\n",
      "|  16|            earthday|  3.80296100715681E7|   3|\n",
      "|  16|   aldub40thweeksary| 3.454274930253911E7|   4|\n",
      "|  16|              prince|         3.4445144E7|   5|\n",
      "|  17|   dolceamorevenezia|         7.9941618E7|   1|\n",
      "|  17|               views| 6.452821929603803E7|   2|\n",
      "|  17|   aldub41stweeksary|2.9755886040478528E7|   3|\n",
      "|  17|                whcd|         2.5021998E7|   4|\n",
      "|  17|       gameofthrones|         2.0947352E7|   5|\n",
      "|  18|             metgala| 3.608394134055532E8|   1|\n",
      "|  18|   dolceamorethesong|         6.2369341E7|   2|\n",
      "|  18| 화양연화onstageepilogue| 4.833936148315436E7|   3|\n",
      "|  18|  maythe4thbewithyou| 2.500358879422435E7|   4|\n",
      "|  18|          mothersday|2.4432856318638414E7|   5|\n",
      "|  19|          teenchoice|1.4985840377142906E9|   1|\n",
      "|  19|          eurovision|2.6509959114118338E8|   2|\n",
      "|  19|dolceamoreitsallc...|      1.0733945675E8|   3|\n",
      "|  19| dolceamoreforgotten|          6.781391E7|   4|\n",
      "|  19| dolceamoremeanttobe| 6.028717150507814E7|   5|\n",
      "|  20|     1dreamboy2today| 9.333881281494153E7|   1|\n",
      "|  20|  aldub10thmonthsary| 4.075415614997208E7|   2|\n",
      "|  20|   aldub44thweeksary|2.2881112748828173E7|   3|\n",
      "|  20|  aldubloversinitaly|  2.17384946731306E7|   4|\n",
      "|  20|   aldubhappyinitaly|1.9249259315775562E7|   5|\n",
      "|  21|               bbmas|3.5980614539969385E8|   1|\n",
      "|  21| dolceamorepanaginip|         4.4339942E7|   2|\n",
      "|  21|      dolceamoretuko|         3.0670345E7|   3|\n",
      "|  21|            uclfinal| 3.018978628567943E7|   4|\n",
      "|  21|       1dreamboy2now| 2.660155138696295E7|   5|\n",
      "|  22|   dolceamorebistado|         2.5340328E7|   1|\n",
      "|  22|    aldubmissinghalf|1.7461187833740264E7|   2|\n",
      "|  22|     aldubhomeatlast|         1.3510819E7|   3|\n",
      "|  22|      aldubbackatone|   9672338.060546905|   4|\n",
      "|  22|         memorialday|           9546990.0|   5|\n",
      "|  23|       mtvawardsstar|2.8084702883333397E8|   1|\n",
      "|  23|        ripchristina|       1.260078125E8|   2|\n",
      "|  23|             orlando|1.1778547808955903E8|   3|\n",
      "|  23|            euro2016|         4.5896674E7|   4|\n",
      "|  23|dolceamoredreamin...|  3.41199584669922E7|   5|\n",
      "|  24|  aldub11thmonthsary|         1.0705437E8|   1|\n",
      "|  24|             orlando|          6.740826E7|   2|\n",
      "|  24|          loveislove|4.1294541426066115E7|   3|\n",
      "|  24|          tonyawards|2.5339642515279163E7|   4|\n",
      "|  24|          fathersday| 2.053040583866377E7|   5|\n",
      "|  25|              brexit| 5.619198364722381E8|   1|\n",
      "|  25|           nbafinals|2.0349302853571463E8|   2|\n",
      "|  25|               euref|1.1304270148304975E8|   3|\n",
      "|  25|       veranomtv2016|  9.15458628571434E7|   4|\n",
      "|  25|       nobillnobreak| 9.102412681068647E7|   5|\n",
      "|  26|       veranomtv2016| 3.406789188571434E8|   1|\n",
      "|  26|           betawards|3.2421501499330366E8|   2|\n",
      "|  26|       gameofthrones| 5.786883800809154E7|   3|\n",
      "|  26|        growingupshy| 4.110965007728803E7|   4|\n",
      "|  26|            euro2016|3.0678980882463813E7|   5|\n",
      "|  27|       veranomtv2016| 6.172812291467648E8|   1|\n",
      "|  27|       altonsterling| 4.353550708000002E8|   2|\n",
      "|  27|              dallas| 3.047466826851982E8|   3|\n",
      "|  27|          teenchoice|        1.44406374E8|   4|\n",
      "|  27| throwback1dreamboy2|1.0612580288085985E8|   5|\n",
      "|  28|          mtvhottest|3.0488707702327023E9|   1|\n",
      "|  28| aldub1stanniversary|      4.1578049275E8|   2|\n",
      "|  28|       veranomtv2016|1.2067341438630056E8|   3|\n",
      "|  28|         prayfornice|         9.3551121E7|   4|\n",
      "|  28|              turkey| 8.518514742857146E7|   5|\n",
      "|  29|          mtvhottest| 5.754052757142944E8|   1|\n",
      "|  29|            rncincle|2.6088884942857265E8|   2|\n",
      "|  29|          6yearsof1d|1.1026246110707319E8|   3|\n",
      "|  29|       veranomtv2016|  9.77457808571434E7|   4|\n",
      "|  29|kimexposedtaylorp...| 9.451060590042552E7|   5|\n",
      "|  30|          mtvhottest|         5.3450441E8|   1|\n",
      "|  30|        demsinphilly|4.4320013742857265E8|   2|\n",
      "|  30|     savemarinajoyce|        2.00240236E8|   3|\n",
      "|  30|       veranomtv2016| 7.138472542857265E7|   4|\n",
      "|  30|dolceamoreconnivance|5.7476012437296584E7|   5|\n",
      "+----+--------------------+--------------------+----+\n",
      "only showing top 90 rows\n",
      "\n"
     ]
    }
   ],
   "source": [
    "wkly_window = Window.partitionBy('week').orderBy(functions.desc('variance'))\n",
    "wkly_rank = functions.rank().over(wkly_window).alias('rank')\n",
    "top_var = top_variance.select('week', 'hashtag', 'variance', wkly_rank).filter('rank <= 5').sort('week', 'rank')\n",
    "top_var.show(90)"
   ]
  },
  {
   "cell_type": "markdown",
   "metadata": {},
   "source": [
    "You should be seeing some weekly lists here that are starting to make sense. Lots of these are related to viral twitter campaigns -- however, you should see the top trending hashtag of week 25 in 2016 to be \"brexit\" (closely followed by \"nbafinals\"). Others in the top ten include \"euref\" and \"eurefresults\". What other newsworthy events can you spot?"
   ]
  },
  {
   "cell_type": "markdown",
   "metadata": {},
   "source": [
    "### Some newsworthy events"
   ]
  },
  {
   "cell_type": "markdown",
   "metadata": {},
   "source": [
    "- We can spot the tweets  `#orlando`  and  `#loveislove`  in the top 2 and 3 of week 24, shortly after the Orlando shooting\n",
    "\n",
    "\n",
    "- We can spot the tweets  `#brexit`, `#euref` and `#eurefresults`  in the top 1, 3 and 6 of week 25, shortly after the Brexit which indicates that people started tweeting about the EU refenredum after the Brexit.\n",
    "\n",
    "\n",
    "- We can spot the tweets  `#prayfornice`  and  `#nice`  in the top 4 and 8 of week 28, shortly after the 2016 Nice attack in France."
   ]
  },
  {
   "cell_type": "markdown",
   "metadata": {},
   "source": [
    "## Plotting the timeseries of hashtag counts \n",
    "\n",
    "### TODO (5 points / 50)\n",
    "\n",
    "These standard deviation lists we obtained above are nice, but lets actually visualize some data. Plot a time series of a few of the more interesting hashtags from the weekly trending list above. Remember that you can filter down the dataframe and then use `toPandas` to bring it to the notebook for plotting."
   ]
  },
  {
   "cell_type": "code",
   "execution_count": 30,
   "metadata": {
    "collapsed": true
   },
   "outputs": [],
   "source": [
    "import pandas as pd"
   ]
  },
  {
   "cell_type": "code",
   "execution_count": 107,
   "metadata": {
    "collapsed": true
   },
   "outputs": [],
   "source": [
    "def plot_variance_hashtag(df, h):\n",
    "    df[(df.hashtag == h) & (df['week'] <= 30)].plot(x='week', y= 'variance', kind= 'line', title=h, figsize=(12,5))"
   ]
  },
  {
   "cell_type": "code",
   "execution_count": 108,
   "metadata": {
    "collapsed": true
   },
   "outputs": [],
   "source": [
    "df = top_variance.select('week', 'hashtag', 'variance', wkly_rank).filter('rank <= 10').sort('week', 'rank').toPandas()"
   ]
  },
  {
   "cell_type": "markdown",
   "metadata": {},
   "source": [
    "## #euro2016"
   ]
  },
  {
   "cell_type": "code",
   "execution_count": 115,
   "metadata": {},
   "outputs": [
    {
     "data": {
      "image/png": "[encoded data removed]",
      "text/plain": [
       "<matplotlib.figure.Figure at 0x7f8e42bb3438>"
      ]
     },
     "metadata": {},
     "output_type": "display_data"
    }
   ],
   "source": [
    "plot_variance_hashtag(df, 'euro2016')"
   ]
  },
  {
   "cell_type": "markdown",
   "metadata": {},
   "source": [
    "<div class=\"alert alert-info\">\n",
    "<p>We can see a high variance of the tweet `#euro2016` at week 23 of 2016 which corresponds to the start of the championship, with a variation going down until week 26, then a jump in week 27 where the final game is happening, which corresponds to a important increase of tweets about `euro2016`.</p>\n",
    "</div>"
   ]
  },
  {
   "cell_type": "code",
   "execution_count": 120,
   "metadata": {},
   "outputs": [
    {
     "data": {
      "image/png": "[encoded data removed]",
      "text/plain": [
       "<matplotlib.figure.Figure at 0x7f8e42c01710>"
      ]
     },
     "metadata": {},
     "output_type": "display_data"
    }
   ],
   "source": [
    "plot_variance_hashtag(df, 'mtvhottest')"
   ]
  },
  {
   "cell_type": "markdown",
   "metadata": {},
   "source": [
    "<div class=\"alert alert-info\">\n",
    "<p>We can see that the `#mtvhottest` hashtag (MTV Hottest Summer Superstar) have a high variance on week 28 until 29, then descreases, since the voting happens in week 28, then the popularity of the tweet descreses continuously over time</p>\n",
    "</div>\n"
   ]
  },
  {
   "cell_type": "markdown",
   "metadata": {},
   "source": [
    "### TODO: Use KMeans to cluster hashtags based on the daily count timeseries (10 points / 50)\n",
    "\n",
    "Hint: \n",
    "\n",
    "1. start from the `daily_hashtag` dataframe you made earlier and use the `pivot` method of `GroupedData` to create a matrix of hashtags as rows and daily counts as columns. \n",
    "2. Use the `VectorAssembler` from the ML library to create the feature vector which will consist of daily counts. \n",
    "\n",
    "Train the model and calculate the cluster membership for all hashtags. Show the cluster that includes \"brexit\".\n",
    "\n",
    "This last part is deliberately under-documented - be creative and see if you can get the clustering to give you meaningful hashtag groupings."
   ]
  },
  {
   "cell_type": "markdown",
   "metadata": {},
   "source": [
    "## 1."
   ]
  },
  {
   "cell_type": "code",
   "execution_count": 123,
   "metadata": {},
   "outputs": [],
   "source": [
    "pivot_matrix = day_counts.groupby('hashtag').pivot('day').sum('count')\n",
    "pivot_matrix = pivot_matrix.na.fill(0)"
   ]
  },
  {
   "cell_type": "code",
   "execution_count": 124,
   "metadata": {},
   "outputs": [
    {
     "name": "stdout",
     "output_type": "stream",
     "text": [
      "+--------------------+---+---+---+---+---+---+---+---+---+---+---+---+---+---+---+---+---+---+---+---+---+---+---+---+---+---+---+---+---+---+---+---+---+---+---+---+---+---+---+---+---+---+---+---+---+---+---+---+---+---+---+---+---+---+---+---+---+---+---+---+---+---+---+---+---+---+---+---+---+---+---+---+---+---+---+---+---+---+---+---+---+---+---+---+---+---+---+---+---+---+---+---+---+---+---+---+---+---+---+---+---+---+---+---+---+---+---+---+---+---+---+---+---+---+---+---+---+---+\n",
      "|             hashtag| 92| 93| 94| 95| 96| 97| 98| 99|100|101|102|103|104|105|106|107|108|109|110|111|112|113|114|115|116|117|118|119|120|121|122|123|124|125|126|127|128|129|130|131|132|133|134|135|136|137|138|139|140|141|142|143|144|145|146|147|148|149|150|151|152|153|154|159|160|161|162|163|164|165|166|167|168|170|171|172|173|174|175|176|177|178|179|180|181|182|183|184|185|186|187|188|189|190|191|192|193|194|195|196|197|198|199|200|201|202|203|204|205|206|207|208|209|210|211|212|213|214|\n",
      "+--------------------+---+---+---+---+---+---+---+---+---+---+---+---+---+---+---+---+---+---+---+---+---+---+---+---+---+---+---+---+---+---+---+---+---+---+---+---+---+---+---+---+---+---+---+---+---+---+---+---+---+---+---+---+---+---+---+---+---+---+---+---+---+---+---+---+---+---+---+---+---+---+---+---+---+---+---+---+---+---+---+---+---+---+---+---+---+---+---+---+---+---+---+---+---+---+---+---+---+---+---+---+---+---+---+---+---+---+---+---+---+---+---+---+---+---+---+---+---+---+\n",
      "|                cubs| 23| 32| 41| 78|274|163| 45|226|216|151|112|264| 46|161|225| 95| 61| 32|212|167| 65|423| 84|107| 44| 36|116| 72|126| 40| 71| 28|112|273| 55|198| 73|147|201| 56|140| 83| 84|109| 69| 42| 45| 66|152| 29|142| 46| 53| 71|165| 57| 94| 85| 82| 66| 82| 95| 74| 20| 45| 53| 56| 74|123| 58| 63|123| 69| 49|130|193| 90| 98| 40| 73| 95| 59| 36|197|221| 44| 72| 47|108| 92| 71|149| 34| 83| 80|106| 46| 53| 68| 26| 86| 78| 61| 33|100|170| 69| 34| 94| 75|300|121| 69|169|177|126| 22|186|\n",
      "|              joysms| 13|  1|  0| 12| 20| 10|  6|  7|  0|  0| 16| 10|  5|  6|  3|  0|  0|  5|  7|  4| 10|  4|  0|  0|  0| 13|  6|  3|  5|  0|  0|  0|  1|  1|  4|  5|  0|  0| 19|  6| 10|  8|  8|  2|  1| 13| 11| 13|  3|  4|  0|  0|  9|  7|  3|  8|  1|  1|  0|  6| 10| 10|  0|  0|  4| 11|  9|  0|  0| 10| 13| 15| 10|  0|  0| 15|  4|  2|  5|  5|  0|  0|  8|  8|  5|  4|  3|  0|  0|  8|  8|  0|  4|  7|  1|  0|  5|  6|  4|  3|  7|  0|  1| 11|  7|  2|  6|  3|  1|  0| 12|  9| 10|  2| 10|  0|  1|  0|\n",
      "|            tcmparty|  1| 14| 21|  8|  7| 10| 11| 12| 54| 11|  8|  9| 10| 21| 27| 22| 18| 18|  5| 25|  9| 12| 19|  7|  6|  4| 11|  8|  6| 21|  7|  4| 12|  6| 12| 11| 13| 52|  4|  9| 37| 14| 31|  8| 23| 25| 13|  9| 12| 22|  9| 31| 11|  4|  4|  6| 25| 18| 10| 22| 13|  8|  5|  0|  7|  5| 22| 38| 22| 15|  5| 11| 13|  9| 12|  8|  7|  6| 12| 16| 18| 15|  6| 10| 16| 15| 19| 33| 17| 24| 11| 13|  8| 10| 19| 10|  9|  7|  8|  7| 16| 40| 11|  6|  7| 15|  9| 13| 13| 11| 13| 11|  4|  8| 10| 23| 21| 13|\n",
      "|          hoverboard|  4|  4|  3| 12|  9|  6|  7|  9|  7|  8|  8| 15| 12| 13|  8| 15|  8| 13| 17|  5|  3| 10|  2|  1|  5|  2|  9|  6|  3|  9|  8|  3|  7| 12| 10|  5|  7|  9|  4|  6|  4|  6|  6|  3|  8|  5|  7|  5|  2|  2|  3|  4|  2|  5|  4|  5|  0|  4|  2|  1|  1|  1|  0|  0|  1|  1|  2|  0|  2|  2|  0|  2|  0|  3|  0|  0|  1|  1|  2|  2|  1|  0|  3|  0|  0|  1|  4|  1|  1|  3|  1|  3|  2|  1|  1|  1|  1|  1|  2|  1|  2|  2|  0|  1|  0|  0|  0|  0|  3|  0|  2|  4|  0|  3|  2|  1|  0|  0|\n",
      "|       rogerbchaffee|  0|  0|  0|  0|  0|  0|  0|  0|  0|  0|  0|  0|  0|  0|  0|  0|  0|  0|  0|  0|  0|  0|  0|  0|  0|  0|  0|  0|  0|  0|  0|  0|  0|  0|  0|  0|  0|  0|  0|  0|  0|  0|  0|  0|  0|  0|  0|  0|  0|  0|  0|  0|  0|  0|  0|  0|  1|  0|  0|  0|  0|  0|  0|  0|  0|  0|  0|  0|  0|  0|  0|  0|  0|  0|  0|  0|  0|  0|  0|  0|  0|  0|  0|  0|  0|  0|  0|  0|  0|  0|  0|  0|  0|  0|  0|  0|  0|  0|  0|  0|  0|  0|  0|  0|  0|  0|  0|  0|  0|  0|  0|  0|  0|  0|  0|  0|  0|  0|\n",
      "|     lookatallmyshit|  0|  0|  0|  0|  0|  0|  0|  0|  0|  0|  0|  0|  0|  0|  0|  0|  0|  0|  0|  0|  0|  0|  0|  0|  0|  0|  1|  0|  0|  0|  0|  0|  0|  0|  0|  0|  0|  0|  0|  0|  0|  0|  0|  0|  0|  0|  0|  0|  0|  0|  0|  0|  0|  0|  0|  0|  0|  0|  0|  0|  0|  0|  0|  0|  0|  0|  0|  0|  0|  0|  0|  0|  0|  0|  0|  0|  0|  0|  0|  0|  0|  0|  0|  0|  0|  0|  0|  0|  0|  0|  0|  0|  0|  0|  0|  0|  0|  0|  0|  0|  0|  0|  0|  1|  0|  0|  0|  0|  0|  0|  0|  0|  0|  0|  0|  0|  0|  0|\n",
      "|              royton|  0|  0|  0|  0|  0|  0|  0|  0|  0|  1|  0|  0|  0|  0|  0|  0|  0|  0|  0|  0|  0|  0|  0|  0|  0|  0|  1|  0|  0|  0|  0|  0|  0|  0|  1|  0|  1|  0|  0|  0|  0|  0|  0|  0|  0|  0|  0|  0|  0|  0|  0|  0|  0|  0|  0|  0|  0|  0|  0|  0|  2|  1|  0|  0|  0|  0|  0|  0|  0|  0|  0|  0|  0|  0|  0|  0|  0|  0|  0|  0|  0|  0|  0|  0|  0|  0|  0|  0|  1|  0|  0|  0|  0|  0|  0|  0|  0|  0|  0|  0|  0|  0|  0|  0|  0|  0|  0|  0|  0|  0|  0|  0|  1|  0|  0|  0|  0|  0|\n",
      "|            semangat|  0|  0|  1|  0|  0|  0|  0|  0|  0|  0|  0|  1|  0|  0|  0|  0|  0|  0|  0|  0|  2|  0|  0|  1|  1|  1|  1|  1|  0|  0|  0|  0|  0|  0|  0|  0|  0|  0|  0|  0|  0|  1|  1|  0|  1|  0|  0|  0|  0|  0|  0|  0|  1|  0|  0|  1|  0|  0|  0|  0|  0|  0|  0|  0|  0|  0|  0|  1|  0|  0|  0|  0|  0|  0|  0|  0|  0|  0|  0|  0|  0|  0|  0|  0|  0|  0|  2|  1|  0|  1|  0|  1|  0|  0|  0|  0|  0|  0|  0|  0|  0|  0|  1|  2|  1|  0|  0|  0|  0|  0|  0|  0|  0|  0|  0|  0|  0|  0|\n",
      "|        couchsurfing|  0|  0|  0|  0|  0|  0|  0|  0|  0|  0|  1|  0|  0|  0|  1|  0|  0|  0|  0|  0|  0|  0|  0|  1|  0|  1|  0|  0|  0|  0|  0|  0|  0|  0|  0|  0|  0|  0|  0|  0|  0|  0|  0|  0|  0|  2|  0|  0|  1|  0|  0|  0|  0|  1|  0|  0|  0|  0|  1|  0|  1|  0|  0|  0|  0|  0|  0|  0|  1|  1|  0|  0|  0|  0|  1|  1|  0|  0|  1|  0|  0|  1|  0|  0|  0|  0|  0|  0|  1|  0|  1|  0|  0|  0|  0|  0|  0|  0|  0|  0|  1|  0|  0|  0|  1|  0|  0|  0|  0|  0|  1|  0|  0|  1|  0|  0|  0|  0|\n",
      "|       optimumhealth|  0|  0|  0|  0|  0|  0|  0|  0|  0|  0|  0|  0|  0|  0|  0|  0|  0|  0|  0|  0|  0|  0|  0|  0|  0|  0|  0|  0|  0|  0|  0|  0|  0|  0|  0|  0|  0|  0|  0|  0|  1|  0|  0|  0|  0|  0|  0|  0|  0|  0|  0|  0|  0|  0|  0|  0|  0|  0|  0|  0|  0|  0|  0|  0|  0|  0|  0|  0|  0|  0|  0|  0|  0|  0|  0|  0|  0|  0|  0|  0|  0|  0|  0|  0|  0|  0|  0|  0|  0|  0|  0|  1|  0|  0|  0|  0|  0|  0|  0|  0|  0|  0|  0|  0|  0|  0|  0|  0|  0|  0|  0|  0|  0|  0|  0|  0|  0|  0|\n",
      "|                 zig|  0|  0|  0|  0|  0|  1|  0|  0|  0|  0|  0|  0|  0|  0|  0|  0|  0|  0|  0|  0|  0|  0|  0|  0|  0|  0|  0|  0|  0|  0|  0|  0|  0|  0|  0|  0|  0|  0|  1|  0|  0|  0|  0|  1|  0|  1|  1|  0|  0|  0|  0|  0|  0|  0|  0|  0|  0|  0|  0|  0|  0|  0|  0|  0|  0|  0|  0|  0|  0|  0|  0|  0|  0|  0|  0|  0|  0|  0|  0|  0|  1|  0|  0|  0|  0|  0|  0|  0|  0|  0|  0|  0|  0|  1|  1|  0|  1|  0|  1|  0|  0|  0|  0|  0|  0|  0|  1|  0|  1|  0|  0|  0|  0|  0|  0|  0|  0|  0|\n",
      "|   martinbarbatrendy|  0|  0|  0|  0|  0|  0|  0|  0|  0|  0|  0|  0|  0|  0|  0|  0|  0|  0|  0|  0|  0|  0|  0|  0|  0|  0|  0|  0|  0|  0|  0|  0|  0|  0|  0|  0|  0|  0|  0|  0|  0|  0|  0|  0|  0|  0|  0|  0|  0|  0|  0|  0|  0|  0|  0|  0|  0|  0|  0|  0|  0|  0|  0|  0|  0|  0|  0|  0|  0|  0|  0|  0|  0|  0|  0|  0|  2|  0|  2|  2|  0|  0|  0|  1|  0|  0|  0|  0|  0|  0|  0|  1|  0|  0|  0|  0|  0|  0|  1|  1|  0|  0|  0|  0|  2|  3|  5|  1|  0|  1|  1|  1|  0|  1|  0|  0|  0|  0|\n",
      "|             cwc2016|  0|  0|  0|  0|  0|  0|  0|  0|  0|  0|  0|  0|  0|  0|  0|  0|  0|  0|  0|  0|  0|  0|  1|  0|  0|  0|  0|  0|  0|  0|  0|  0|  0|  0|  0|  0|  0|  0|  0|  0|  0|  0|  0|  0|  0|  0|  3|  0|  0|  0|  0|  0|  0|  0|  0|  0|  0|  0|  0|  0|  0|  0|  0|  0|  0|  0|  0|  0|  0|  0|  0|  0|  0|  0|  0|  0|  0|  1|  0|  0|  0|  0|  0|  0|  0|  0|  0|  0|  0|  0|  0|  0|  0|  0|  0|  1|  0|  0|  1|  2|  0|  0|  0|  0|  0|  0|  0|  0|  0|  0|  0|  0|  0|  1|  0|  0|  0|  0|\n",
      "|           guategram|  0|  0|  0|  0|  0|  0|  0|  0|  0|  0|  0|  0|  0|  1|  0|  0|  0|  0|  0|  0|  0|  0|  0|  0|  0|  0|  0|  0|  0|  0|  0|  0|  0|  0|  0|  0|  0|  0|  0|  0|  0|  0|  0|  0|  0|  0|  0|  0|  0|  0|  0|  0|  0|  1|  0|  0|  0|  0|  0|  0|  0|  0|  0|  0|  0|  0|  0|  0|  0|  0|  0|  0|  0|  0|  0|  0|  0|  0|  0|  0|  0|  0|  0|  0|  0|  0|  0|  0|  0|  0|  0|  0|  1|  0|  0|  0|  0|  0|  0|  0|  0|  0|  0|  0|  0|  0|  0|  0|  0|  0|  0|  0|  0|  0|  0|  0|  0|  0|\n",
      "|   shitourpatronssay|  0|  0|  0|  0|  0|  0|  0|  0|  0|  0|  0|  0|  0|  0|  0|  0|  0|  0|  0|  0|  0|  0|  0|  0|  0|  0|  0|  0|  0|  0|  0|  0|  0|  0|  0|  0|  0|  0|  0|  0|  0|  0|  0|  0|  0|  0|  0|  0|  0|  0|  0|  0|  0|  0|  0|  0|  0|  0|  0|  0|  0|  0|  0|  0|  0|  0|  0|  0|  0|  0|  0|  0|  0|  0|  0|  0|  0|  0|  0|  0|  0|  1|  0|  0|  0|  0|  0|  0|  0|  0|  0|  0|  0|  0|  0|  0|  0|  0|  0|  0|  0|  0|  0|  0|  0|  0|  0|  0|  0|  0|  0|  0|  0|  0|  0|  0|  0|  0|\n",
      "|kachemakbayfamily...|  0|  0|  0|  0|  0|  0|  0|  0|  0|  0|  0|  0|  0|  0|  1|  0|  0|  0|  0|  0|  0|  0|  0|  0|  0|  0|  0|  0|  0|  0|  0|  0|  0|  0|  0|  0|  0|  0|  0|  0|  0|  0|  0|  0|  0|  0|  0|  0|  0|  0|  0|  0|  0|  0|  0|  0|  0|  0|  0|  0|  0|  0|  0|  0|  0|  0|  0|  0|  0|  0|  0|  0|  0|  0|  0|  0|  0|  0|  0|  0|  0|  0|  0|  0|  0|  0|  0|  0|  0|  0|  0|  0|  0|  0|  0|  0|  0|  0|  0|  0|  0|  0|  0|  0|  0|  0|  0|  0|  0|  0|  0|  0|  0|  0|  0|  0|  0|  0|\n",
      "|      bloodyfreezing|  0|  0|  0|  0|  0|  0|  0|  0|  0|  0|  0|  0|  0|  0|  0|  0|  0|  0|  0|  0|  0|  0|  0|  0|  0|  1|  0|  1|  0|  0|  0|  0|  0|  0|  0|  0|  0|  0|  0|  0|  0|  0|  0|  0|  0|  0|  0|  0|  0|  0|  0|  0|  0|  0|  0|  0|  0|  0|  0|  0|  0|  0|  0|  0|  0|  0|  0|  0|  0|  0|  1|  0|  0|  0|  0|  0|  0|  0|  0|  0|  0|  0|  0|  1|  1|  0|  0|  0|  0|  0|  0|  0|  0|  0|  0|  0|  0|  0|  0|  0|  0|  0|  0|  0|  0|  0|  0|  0|  0|  0|  0|  0|  0|  0|  0|  0|  0|  0|\n",
      "|           londonfog|  0|  0|  0|  0|  0|  0|  0|  0|  0|  0|  0|  0|  0|  0|  0|  0|  0|  0|  0|  0|  0|  0|  0|  0|  0|  0|  0|  1|  0|  0|  0|  0|  0|  0|  0|  0|  0|  0|  0|  0|  0|  0|  0|  0|  0|  0|  0|  1|  0|  0|  0|  0|  0|  0|  0|  0|  0|  0|  0|  1|  0|  0|  0|  1|  0|  0|  0|  0|  0|  0|  0|  0|  0|  0|  0|  0|  0|  0|  0|  0|  0|  0|  0|  0|  0|  0|  0|  0|  0|  0|  0|  0|  0|  0|  0|  0|  0|  0|  0|  0|  0|  0|  0|  0|  0|  0|  0|  0|  0|  0|  0|  0|  0|  0|  0|  0|  0|  0|\n",
      "|           flushrush|  0|  0|  0|  0|  0|  0|  0|  0|  0|  0|  0|  0|  0|  0|  0|  2|  1|  1|  0|  0|  0|  1|  0|  0|  0|  1|  0|  0|  0|  0|  0|  0|  0|  0|  0|  0|  1|  0|  0|  0|  0|  1|  1|  0|  0|  0|  0|  0|  0|  0|  0|  1|  0|  0|  2|  0|  0|  1|  0|  0|  0|  0|  1|  0|  0|  0|  0|  0|  0|  0|  0|  0|  0|  0|  0|  0|  0|  0|  0|  0|  0|  0|  2|  0|  0|  1|  1|  0|  0|  0|  0|  0|  0|  0|  0|  0|  1|  0|  0|  0|  0|  0|  0|  0|  0|  0|  0|  0|  0|  0|  0|  0|  0|  0|  0|  0|  0|  0|\n",
      "|          edgarlungu|  0|  0|  0|  0|  1|  0|  0|  0|  0|  0|  0|  0|  0|  0|  1|  0|  0|  0|  0|  0|  0|  0|  0|  0|  0|  0|  0|  0|  0|  1|  1|  0|  1|  0|  2|  0|  0|  0|  0|  0|  0|  0|  0|  1|  0|  0|  1|  1|  0|  2|  1|  0|  0|  1|  1|  1|  0|  0|  1|  0|  1|  1|  0|  0|  0|  0|  1|  0|  0|  0|  0|  1|  0|  0|  0|  0|  0|  1|  0|  2|  2|  1|  0|  0|  0|  0|  1|  0|  0|  2|  0|  1|  2|  3|  0|  1|  1|  0|  1|  0|  2|  0|  2|  0|  1|  1|  0|  1|  1|  0|  1|  2|  1|  0|  0|  1|  0|  0|\n",
      "+--------------------+---+---+---+---+---+---+---+---+---+---+---+---+---+---+---+---+---+---+---+---+---+---+---+---+---+---+---+---+---+---+---+---+---+---+---+---+---+---+---+---+---+---+---+---+---+---+---+---+---+---+---+---+---+---+---+---+---+---+---+---+---+---+---+---+---+---+---+---+---+---+---+---+---+---+---+---+---+---+---+---+---+---+---+---+---+---+---+---+---+---+---+---+---+---+---+---+---+---+---+---+---+---+---+---+---+---+---+---+---+---+---+---+---+---+---+---+---+---+\n",
      "only showing top 20 rows\n",
      "\n"
     ]
    }
   ],
   "source": [
    "pivot_matrix.show()"
   ]
  },
  {
   "cell_type": "markdown",
   "metadata": {},
   "source": [
    "## 2."
   ]
  },
  {
   "cell_type": "code",
   "execution_count": 143,
   "metadata": {
    "collapsed": true
   },
   "outputs": [],
   "source": [
    "from pyspark.ml import Pipeline\n",
    "from pyspark.ml.feature import VectorAssembler\n",
    "from pyspark.ml.clustering import KMeans"
   ]
  },
  {
   "cell_type": "code",
   "execution_count": 164,
   "metadata": {},
   "outputs": [],
   "source": [
    "# Construct the features using VectorAssembler\n",
    "ignore = ['hashtag']\n",
    "assembler = VectorAssembler(\n",
    "    inputCols=[x for x in pivot_matrix.columns if x not in ignore],\n",
    "    outputCol=\"features\")"
   ]
  },
  {
   "cell_type": "code",
   "execution_count": 177,
   "metadata": {},
   "outputs": [],
   "source": [
    "# Setting the KMeans estimator and fit the data using Pipeline\n",
    "kmeans_estimator = KMeans(k=12).setFeaturesCol(\"features\").setPredictionCol(\"prediction\")\n",
    "pipeline = Pipeline(stages=[assembler, kmeans_estimator])\n",
    "model = pipeline.fit(pivot_matrix)\n",
    "# 'predicted_df' contains the cluster membership of all hasthags\n",
    "predicted_df = model.transform(pivot_matrix)"
   ]
  },
  {
   "cell_type": "code",
   "execution_count": 180,
   "metadata": {},
   "outputs": [
    {
     "name": "stdout",
     "output_type": "stream",
     "text": [
      "+--------------------+---+---+---+---+---+---+---+---+---+---+---+---+---+---+---+---+---+---+---+---+---+---+---+---+---+---+---+---+---+---+---+---+---+---+---+---+---+---+---+---+---+---+---+---+---+---+---+---+---+---+---+---+---+---+---+---+---+---+---+---+---+---+---+---+---+---+---+---+---+---+---+---+---+---+---+---+---+---+---+---+---+---+---+---+---+---+---+---+---+---+---+---+---+---+---+---+---+---+---+---+---+---+---+---+---+---+---+---+---+---+---+---+---+---+---+---+---+---+--------------------+----------+\n",
      "|             hashtag| 92| 93| 94| 95| 96| 97| 98| 99|100|101|102|103|104|105|106|107|108|109|110|111|112|113|114|115|116|117|118|119|120|121|122|123|124|125|126|127|128|129|130|131|132|133|134|135|136|137|138|139|140|141|142|143|144|145|146|147|148|149|150|151|152|153|154|159|160|161|162|163|164|165|166|167|168|170|171|172|173|174|175|176|177|178|179|180|181|182|183|184|185|186|187|188|189|190|191|192|193|194|195|196|197|198|199|200|201|202|203|204|205|206|207|208|209|210|211|212|213|214|            features|prediction|\n",
      "+--------------------+---+---+---+---+---+---+---+---+---+---+---+---+---+---+---+---+---+---+---+---+---+---+---+---+---+---+---+---+---+---+---+---+---+---+---+---+---+---+---+---+---+---+---+---+---+---+---+---+---+---+---+---+---+---+---+---+---+---+---+---+---+---+---+---+---+---+---+---+---+---+---+---+---+---+---+---+---+---+---+---+---+---+---+---+---+---+---+---+---+---+---+---+---+---+---+---+---+---+---+---+---+---+---+---+---+---+---+---+---+---+---+---+---+---+---+---+---+---+--------------------+----------+\n",
      "|getsetforthala57u...|  0|  0|  0|  0|  0|  0|  0|  0|  0|  0|  0|  0|  0|  0|  0|  0|  0|  0|  0|  0|  0|  0|  0|  0|  0|  0|  0|  0|  0|  0|  0|  0|  0|  0|  0|  0|  0| 21|  7|  0|  1|  0|  0|  0|  0|  0|  0|  0|  0|  0|  0|  0|  0|  0|  0|  0|  0|  0|  0|  0|  0|  0|  0|  0|  0|  0|  0|  0|  0|  0|  0|  0|  0|  0|  0|  0|  0|  0|  0|  0|  0|  0|  0|  0|  0|  0|  0|  0|  0|  0|  0|  0|  0|  0|  0|  0|  0|  0|  0|  0|  0|  0|  0|  0|  0|  0|  0|  0|  0|  0|  0|  0|  0|  0|  0|  0|  0|  0|(118,[37,38,40],[...|         0|\n",
      "|chicagogirlsbreak...|  0|  0|  0|  0|  0|  0|  0|  0|  0|  0|  0|  0|  0|  0|  0|  0|  0|  0|  0|  0|  0|  0|  0|  0|  0|  0|  0|  0|  0|  0|  0|  0|  0|  0|  0|  0|  0|  0|  0|  0|  0|  0|  0|  0|  0|  0|  0|  0|  0|  0|  0|  0|  0|  0|  0|  0|  0|  0|  0|  0|  0|  0|  0|  0|  0|  0|  0|  0|  0|  0|  0|  0|  0|  0|  0|  0|  0|  0|  0|  0|  0|  0|  0|109|137| 21| 10|  4|  1|  1|  3|  0|  0|  0|  1|  2|  1|  1|  0|  0|  0|  1|  1|  0|  0|  0|  0|  0|  0|  0|  4|  1|  0|  0|  1|  0|  0|  1|(118,[83,84,85,86...|         0|\n",
      "|           traveling| 11| 13| 22| 20| 52| 14| 25| 38| 15| 15| 16| 20| 16| 13| 11| 14| 15| 16|  7| 14| 12| 13|  5|  8|  5|  8| 10|  9| 14| 22| 13|  6|  9| 13| 13| 15|  9|  6| 12| 17| 14| 16| 13| 18| 13|  9| 23| 14| 11| 16| 10| 13| 13|  8| 11|  9|  7| 14|  7| 12| 16| 13|  0|  2| 13| 16| 10| 11| 33| 18| 25| 11|  6| 12|  8| 14| 10| 12| 13| 16| 15| 12| 13| 14| 10| 13| 12| 10| 10| 14| 15|  9| 11| 11| 13| 10|  8| 12| 21| 15| 14| 13|  8| 21| 14| 13| 14| 11| 15| 10| 16| 15| 14| 14| 12|  8| 11|  5|[11.0,13.0,22.0,2...|         0|\n",
      "|           cliqueart|  8| 14|  9| 16| 13| 13|  7| 16| 10| 15| 10|  7|  9|  4|  6|  6|  6|  6|  6|  8| 25|  8|  3|  9|  8|  5|  4|  5|  9|  7| 11|  1|  6|  4|  8|  5| 13|  3|  9| 18|  4|  8|  3|  9|  8|  3|  8|  8|  8|  4|  8|  9|  6|  3|  3|  4|  7| 12|  7|  5|  3|  5|  3|  0|  6| 26|  9| 10| 13| 10| 10| 35| 31| 42| 16| 13|  7| 18| 42| 34| 42| 16| 11| 18| 14|  7| 19| 17| 15|  9|  8| 17| 11| 22| 14| 15| 14|  9| 24| 13| 17| 16|  8| 10| 15| 21| 14| 12| 23| 30| 15|  9| 22|  6| 13| 14| 39| 11|[8.0,14.0,9.0,16....|         0|\n",
      "|        sonnyganteng|  8|  1|  4| 10| 14|  1|  5|  3|  3|  3|  6|  5|  9|  2|  3| 10|  6|  3|  7|  6|  4|  3|  2|  5|  3|  6|  4|  1|  4|  6| 17|  3| 25|  8| 22| 13| 18| 11| 18| 17| 23| 15| 11| 12| 14| 13| 12| 13| 24| 17| 21| 10| 19| 13| 12| 15| 14| 18| 10| 15| 11|  9|  9|  6| 12| 14| 23| 11| 14| 18| 12| 21|  7| 12| 10| 14| 12| 11| 15| 12| 13| 12|  5| 15| 10|  7| 11| 13| 10| 17|  9| 10|  9| 11| 17| 17| 14| 11| 12| 14| 16|  9| 23| 10| 10| 10| 18| 14| 12| 10|  6| 19| 17| 13| 11| 11|  9|  9|[8.0,1.0,4.0,10.0...|         0|\n",
      "|       uncategorized| 11| 13|  7| 11| 14| 15| 16|  8|  8|  8|  8| 15| 16| 11| 10| 11| 20| 12| 13| 14| 20| 13|  1|  8|  7| 18| 14| 17| 12| 17| 11|  6|  7| 11| 21| 13|  4| 11| 13| 15| 12| 14| 10|  7|  7| 12|  9| 10| 10| 18|  9|  8| 12| 14|  9| 12|  7| 11|  3| 13|  5| 10|  7|  2|  9| 16| 13|  8|  5| 14| 12|  8|  2|  6|  4| 14|  8| 11|  7| 15|  6|  3|  8| 13| 13|  9|  9|  8|  6| 15| 14| 14| 13| 11|  4|  6|  8|  9| 17| 11|  9|  7|  7| 15| 11|  9| 10| 13|  9|  6| 11|  9| 12| 18| 15| 10|  8|  2|[11.0,13.0,7.0,11...|         0|\n",
      "|              carsex|  3|  2|  1|  5|  2|  5|  3|  3|  3|  3|  5|  0|  3|  2|  2|  3|  1|  3|  2|  2|  0|  1|  1|  0|  1|  1|  1|  1|  4|  2|  2|  0|  3|  6|  3|  4|  5|  2|  6|  4|  4|  2|  3|  3|  7|  5|  4|  3|  2|  5|  7|  4|  4|  3|  4|  3|  3|  3|  0|  1| 15|  9|  3|  0|  3|  1|  3|  2|  6|  9| 10| 13|  6|  4| 11| 13| 13| 10| 11|  1| 13|  6| 12|  7| 14|  8|  7|  8|  8| 11|  7| 10|  9|  6|  8| 10|  6|  8|  4|  6|  5|  8| 10|  9| 10|  5| 10|  7| 15| 19| 13| 13|  8|  8| 51| 74|105| 74|[3.0,2.0,1.0,5.0,...|         0|\n",
      "|               any16|  0|  0|  0|  1|  1|  0|  0|  0|  0|  0|  0|  1|  0|  0|  0|  2|  0|  1|  1|  1|  0|  0|  0|  0|  1|  1|  1|  0|  0|  1|  1|  1|  0|  1|  1|  0|  0|  0|  1|  6|  3|  0|  0|  0|  2|  0|  0|  1|  0|  1|  0|  0|  0|  1|  1|  0|  0|  2|  0|  2|  0|  1|  0|  0|  0|  0|  0|  0|  1|  1|  0|  0|  0|  0|  0|  0|  0|  0|  0|  0|  0|  0|  0|  0|  0|  0|  0|  4|  0|  0|  0|  2|  0|  1|  0|  0|  2|  1|  1|  1|  0|  1|  0|  0|  0|  0|  0|  2|  0|  0|  1|  1|  3|  2|  0|  0|  1|  0|(118,[3,4,11,15,1...|         0|\n",
      "|            everyday|  3|  1|  6|  5|  2| 11|  5|  8|  5|  4|  5|  8|  3|  1|  9| 11| 12|  6| 14| 10|  5| 12|  3|  9| 11|  7| 14| 10|  9|  4|  7|  3| 10| 10|  9|  7|  9|  9|  7|  5|  7| 91|229| 28| 17| 11|  2|  6| 11|  6| 10|  7|  8| 10|  6|  7|  3| 10|  3|  5|  4|  9|  3|  0|  3|  5|  6|  2|  6|  8|  7| 12|  3|  3| 12|  8|  7|  2|  5|  2|  2|  4|  8| 10|  3|  7|  8|  2|  8|  5|  3|  5|  9|  5|  4|  8|  8|  5|  7|  4|  6|  4|  3|  4|  4|  8|  6| 14|  3|  4|  3|  5|  7|  4| 17|  8|  4|  4|[3.0,1.0,6.0,5.0,...|         0|\n",
      "|    supergirlseason2|  1|  1|  1|  1|  1|  4|  1|  7|  0|  1|  4| 20|  4|  1|  6|  3|  2|  5| 21|  3|  3|  4|  3|  0|  5|  8|  3|  2|  3|  5|  2|  0|  2|  5|  1|  4|  3|  0|  1|  1|  2| 11| 47|  6|  3|  1|  1|  1|  5|  5|  0|  1|  0|  0|  2|  0|  0|  1|  0|  2|  3|  0|  0|  0|  0|  1|  1|  0|  0|  1|  2|  0|  0|  1|  0|  0|  0|  0|  1|  1|  0|  0|  0|  0|  0|  0|  0|  0|  0|  0|  0|  0|  0|  0|  0|  0|  0|  0|  1|  0|  0|  0|  0|  1|  0|  1|  2|  1|  2|  0|  2|  0|  0|  0|  3|  5|  0|  0|(118,[0,1,2,3,4,5...|         0|\n",
      "|      socialsecurity|  4|  8|  6| 14|  5|  7|  4|  3|  2|  1|  7|  5|  6|  4| 19|  5|  7|  4|  7|  4|  4|  4|  3|  2|  3|  5|  6|  3|  1|  2|  4|  3|  1|  7|  2|  3|  5|  1|  4|  1|  1|  6|  7|  5|  3|  1|  3|  3|  1|  5|  1|  1|  5|  3|  6|  1|  3|  3|  7|  2|  2|  6|  6|  1|  4|  4|  4|  1|  1|  2|  1|  2|  0|  1|  1|  1|  5|  6|  7|  6|  3|  2|  5|  3|  3|  2|  2|  2|  0|  7|  3|  3|  4|  4|  4|  0|  1|  3|  6| 12| 10|  2|  5|  8|  6|  1|  2|  4|  5|  0|  3|  4|  3|  6|  6|  1|  4|  1|[4.0,8.0,6.0,14.0...|         0|\n",
      "|          hoverboard|  4|  4|  3| 12|  9|  6|  7|  9|  7|  8|  8| 15| 12| 13|  8| 15|  8| 13| 17|  5|  3| 10|  2|  1|  5|  2|  9|  6|  3|  9|  8|  3|  7| 12| 10|  5|  7|  9|  4|  6|  4|  6|  6|  3|  8|  5|  7|  5|  2|  2|  3|  4|  2|  5|  4|  5|  0|  4|  2|  1|  1|  1|  0|  0|  1|  1|  2|  0|  2|  2|  0|  2|  0|  3|  0|  0|  1|  1|  2|  2|  1|  0|  3|  0|  0|  1|  4|  1|  1|  3|  1|  3|  2|  1|  1|  1|  1|  1|  2|  1|  2|  2|  0|  1|  0|  0|  0|  0|  3|  0|  2|  4|  0|  3|  2|  1|  0|  0|[4.0,4.0,3.0,12.0...|         0|\n",
      "|       rogerbchaffee|  0|  0|  0|  0|  0|  0|  0|  0|  0|  0|  0|  0|  0|  0|  0|  0|  0|  0|  0|  0|  0|  0|  0|  0|  0|  0|  0|  0|  0|  0|  0|  0|  0|  0|  0|  0|  0|  0|  0|  0|  0|  0|  0|  0|  0|  0|  0|  0|  0|  0|  0|  0|  0|  0|  0|  0|  1|  0|  0|  0|  0|  0|  0|  0|  0|  0|  0|  0|  0|  0|  0|  0|  0|  0|  0|  0|  0|  0|  0|  0|  0|  0|  0|  0|  0|  0|  0|  0|  0|  0|  0|  0|  0|  0|  0|  0|  0|  0|  0|  0|  0|  0|  0|  0|  0|  0|  0|  0|  0|  0|  0|  0|  0|  0|  0|  0|  0|  0|    (118,[56],[1.0])|         0|\n",
      "|     lookatallmyshit|  0|  0|  0|  0|  0|  0|  0|  0|  0|  0|  0|  0|  0|  0|  0|  0|  0|  0|  0|  0|  0|  0|  0|  0|  0|  0|  1|  0|  0|  0|  0|  0|  0|  0|  0|  0|  0|  0|  0|  0|  0|  0|  0|  0|  0|  0|  0|  0|  0|  0|  0|  0|  0|  0|  0|  0|  0|  0|  0|  0|  0|  0|  0|  0|  0|  0|  0|  0|  0|  0|  0|  0|  0|  0|  0|  0|  0|  0|  0|  0|  0|  0|  0|  0|  0|  0|  0|  0|  0|  0|  0|  0|  0|  0|  0|  0|  0|  0|  0|  0|  0|  0|  0|  1|  0|  0|  0|  0|  0|  0|  0|  0|  0|  0|  0|  0|  0|  0|(118,[26,103],[1....|         0|\n",
      "|              royton|  0|  0|  0|  0|  0|  0|  0|  0|  0|  1|  0|  0|  0|  0|  0|  0|  0|  0|  0|  0|  0|  0|  0|  0|  0|  0|  1|  0|  0|  0|  0|  0|  0|  0|  1|  0|  1|  0|  0|  0|  0|  0|  0|  0|  0|  0|  0|  0|  0|  0|  0|  0|  0|  0|  0|  0|  0|  0|  0|  0|  2|  1|  0|  0|  0|  0|  0|  0|  0|  0|  0|  0|  0|  0|  0|  0|  0|  0|  0|  0|  0|  0|  0|  0|  0|  0|  0|  0|  1|  0|  0|  0|  0|  0|  0|  0|  0|  0|  0|  0|  0|  0|  0|  0|  0|  0|  0|  0|  0|  0|  0|  0|  1|  0|  0|  0|  0|  0|(118,[9,26,34,36,...|         0|\n",
      "|            semangat|  0|  0|  1|  0|  0|  0|  0|  0|  0|  0|  0|  1|  0|  0|  0|  0|  0|  0|  0|  0|  2|  0|  0|  1|  1|  1|  1|  1|  0|  0|  0|  0|  0|  0|  0|  0|  0|  0|  0|  0|  0|  1|  1|  0|  1|  0|  0|  0|  0|  0|  0|  0|  1|  0|  0|  1|  0|  0|  0|  0|  0|  0|  0|  0|  0|  0|  0|  1|  0|  0|  0|  0|  0|  0|  0|  0|  0|  0|  0|  0|  0|  0|  0|  0|  0|  0|  2|  1|  0|  1|  0|  1|  0|  0|  0|  0|  0|  0|  0|  0|  0|  0|  1|  2|  1|  0|  0|  0|  0|  0|  0|  0|  0|  0|  0|  0|  0|  0|(118,[2,11,20,23,...|         0|\n",
      "|        couchsurfing|  0|  0|  0|  0|  0|  0|  0|  0|  0|  0|  1|  0|  0|  0|  1|  0|  0|  0|  0|  0|  0|  0|  0|  1|  0|  1|  0|  0|  0|  0|  0|  0|  0|  0|  0|  0|  0|  0|  0|  0|  0|  0|  0|  0|  0|  2|  0|  0|  1|  0|  0|  0|  0|  1|  0|  0|  0|  0|  1|  0|  1|  0|  0|  0|  0|  0|  0|  0|  1|  1|  0|  0|  0|  0|  1|  1|  0|  0|  1|  0|  0|  1|  0|  0|  0|  0|  0|  0|  1|  0|  1|  0|  0|  0|  0|  0|  0|  0|  0|  0|  1|  0|  0|  0|  1|  0|  0|  0|  0|  0|  1|  0|  0|  1|  0|  0|  0|  0|(118,[10,14,23,25...|         0|\n",
      "|       optimumhealth|  0|  0|  0|  0|  0|  0|  0|  0|  0|  0|  0|  0|  0|  0|  0|  0|  0|  0|  0|  0|  0|  0|  0|  0|  0|  0|  0|  0|  0|  0|  0|  0|  0|  0|  0|  0|  0|  0|  0|  0|  1|  0|  0|  0|  0|  0|  0|  0|  0|  0|  0|  0|  0|  0|  0|  0|  0|  0|  0|  0|  0|  0|  0|  0|  0|  0|  0|  0|  0|  0|  0|  0|  0|  0|  0|  0|  0|  0|  0|  0|  0|  0|  0|  0|  0|  0|  0|  0|  0|  0|  0|  1|  0|  0|  0|  0|  0|  0|  0|  0|  0|  0|  0|  0|  0|  0|  0|  0|  0|  0|  0|  0|  0|  0|  0|  0|  0|  0|(118,[40,91],[1.0...|         0|\n",
      "|                 zig|  0|  0|  0|  0|  0|  1|  0|  0|  0|  0|  0|  0|  0|  0|  0|  0|  0|  0|  0|  0|  0|  0|  0|  0|  0|  0|  0|  0|  0|  0|  0|  0|  0|  0|  0|  0|  0|  0|  1|  0|  0|  0|  0|  1|  0|  1|  1|  0|  0|  0|  0|  0|  0|  0|  0|  0|  0|  0|  0|  0|  0|  0|  0|  0|  0|  0|  0|  0|  0|  0|  0|  0|  0|  0|  0|  0|  0|  0|  0|  0|  1|  0|  0|  0|  0|  0|  0|  0|  0|  0|  0|  0|  0|  1|  1|  0|  1|  0|  1|  0|  0|  0|  0|  0|  0|  0|  1|  0|  1|  0|  0|  0|  0|  0|  0|  0|  0|  0|(118,[5,38,43,45,...|         0|\n",
      "|   martinbarbatrendy|  0|  0|  0|  0|  0|  0|  0|  0|  0|  0|  0|  0|  0|  0|  0|  0|  0|  0|  0|  0|  0|  0|  0|  0|  0|  0|  0|  0|  0|  0|  0|  0|  0|  0|  0|  0|  0|  0|  0|  0|  0|  0|  0|  0|  0|  0|  0|  0|  0|  0|  0|  0|  0|  0|  0|  0|  0|  0|  0|  0|  0|  0|  0|  0|  0|  0|  0|  0|  0|  0|  0|  0|  0|  0|  0|  0|  2|  0|  2|  2|  0|  0|  0|  1|  0|  0|  0|  0|  0|  0|  0|  1|  0|  0|  0|  0|  0|  0|  1|  1|  0|  0|  0|  0|  2|  3|  5|  1|  0|  1|  1|  1|  0|  1|  0|  0|  0|  0|(118,[76,78,79,83...|         0|\n",
      "+--------------------+---+---+---+---+---+---+---+---+---+---+---+---+---+---+---+---+---+---+---+---+---+---+---+---+---+---+---+---+---+---+---+---+---+---+---+---+---+---+---+---+---+---+---+---+---+---+---+---+---+---+---+---+---+---+---+---+---+---+---+---+---+---+---+---+---+---+---+---+---+---+---+---+---+---+---+---+---+---+---+---+---+---+---+---+---+---+---+---+---+---+---+---+---+---+---+---+---+---+---+---+---+---+---+---+---+---+---+---+---+---+---+---+---+---+---+---+---+---+--------------------+----------+\n",
      "only showing top 20 rows\n",
      "\n"
     ]
    }
   ],
   "source": [
    "predicted_df.show()"
   ]
  },
  {
   "cell_type": "code",
   "execution_count": 178,
   "metadata": {
    "collapsed": true
   },
   "outputs": [],
   "source": [
    "# cluster of tweets than contains 'brexit'\n",
    "cluster = predicted_df.select('prediction').filter(predicted_df[\"hashtag\"].like(\"brexit\")) "
   ]
  },
  {
   "cell_type": "code",
   "execution_count": 181,
   "metadata": {},
   "outputs": [
    {
     "name": "stdout",
     "output_type": "stream",
     "text": [
      "3\n"
     ]
    }
   ],
   "source": [
    "# cluster number for 'brexit'\n",
    "print(cluster.collect()[0].prediction)"
   ]
  },
  {
   "cell_type": "code",
   "execution_count": 183,
   "metadata": {
    "scrolled": false
   },
   "outputs": [
    {
     "name": "stdout",
     "output_type": "stream",
     "text": [
      "+--------------+----------+\n",
      "|       hashtag|prediction|\n",
      "+--------------+----------+\n",
      "|        travel|         3|\n",
      "|           art|         3|\n",
      "|      etsymntt|         3|\n",
      "|       android|         3|\n",
      "|         euref|         3|\n",
      "|        hiring|         3|\n",
      "|          mufc|         3|\n",
      "|   gameinsight|         3|\n",
      "|          mgwv|         3|\n",
      "|         trump|         3|\n",
      "|    soundcloud|         3|\n",
      "|          news|         3|\n",
      "|            rt|         3|\n",
      "|      giveaway|         3|\n",
      "|          love|         3|\n",
      "|          porn|         3|\n",
      "|         porno|         3|\n",
      "|      euro2016|         3|\n",
      "|teamfollowback|         3|\n",
      "|            np|         3|\n",
      "|           job|         3|\n",
      "|          etsy|         3|\n",
      "|   photography|         3|\n",
      "|     marketing|         3|\n",
      "|          free|         3|\n",
      "|       retweet|         3|\n",
      "| mtvawardsstar|         3|\n",
      "|          nsfw|         3|\n",
      "| gameofthrones|         3|\n",
      "|  mplusrewards|         3|\n",
      "|         music|         3|\n",
      "|           xxx|         3|\n",
      "|     periscope|         3|\n",
      "|     trump2016|         3|\n",
      "|          tcot|         3|\n",
      "|        trecru|         3|\n",
      "|          got7|         3|\n",
      "|   competition|         3|\n",
      "|           win|         3|\n",
      "|   followtrick|         3|\n",
      "+--------------+----------+\n",
      "only showing top 40 rows\n",
      "\n"
     ]
    }
   ],
   "source": [
    "# tweets that belong to the same cluster as 'brexit'\n",
    "predicted_df.select('hashtag', 'prediction')\\\n",
    ".where(cluster.collect()[0].prediction == predicted_df['prediction']).show(40) "
   ]
  }
 ],
 "metadata": {
  "kernelspec": {
   "display_name": "Python 3",
   "language": "python",
   "name": "python3"
  },
  "language_info": {
   "codemirror_mode": {
    "name": "ipython",
    "version": 3
   },
   "file_extension": ".py",
   "mimetype": "text/x-python",
   "name": "python",
   "nbconvert_exporter": "python",
   "pygments_lexer": "ipython3",
   "version": "3.6.4"
  }
 },
 "nbformat": 4,
 "nbformat_minor": 2
}
